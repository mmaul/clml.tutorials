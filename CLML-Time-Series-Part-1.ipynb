{
 "cells": [
  {
   "cell_type": "markdown",
   "metadata": {},
   "source": [
    "# CLML Time Series Tutorial Part 1"
   ]
  },
  {
   "cell_type": "markdown",
   "metadata": {},
   "source": [
    "> (C) 2015 Mike Maul -- CC-BY-SA 3.0"
   ]
  },
  {
   "cell_type": "markdown",
   "metadata": {},
   "source": [
    "This document is a the first is a series of tutorials illustrating the use of the CLML.time-series package. In fact it is a first in a series of series of tutorials illustrating the use of CLML. "
   ]
  },
  {
   "cell_type": "markdown",
   "metadata": {},
   "source": [
    "###Caveat\n",
    "Anyone wishing to run this notebook or the code contained there in must take note of the following:\n",
    "  - This time series cleaning section of this tutorial relies on the github version of [`CLML` https://github.com/mmaul/clml.git](https://github.com/mmaul/clml.git) or a quicklist-dist `CLML`> than 20150805 \n",
    "  - The plotting portion of this code requires the system [`clml.extras` https://github.com/mmaul/clml.extras.git](https://github.com/mmaul/clml.extras.git) which is not currently in quicklisp.\n",
    "  - While the above git repositories are not in quicklisp they be loaded by `quickload` by placing the repositories in $HOME/quicklisp/local-projects"
   ]
  },
  {
   "cell_type": "markdown",
   "metadata": {},
   "source": [
    "## Time Series, what and why \n",
    "\n",
    "A time series is a set of data points collected over a given period of time. Examples of time series are stock ticker data, sensor data and netflow data. Generally one wants to preform some sort of analysis on a time series and or use previous performance to forecast future performance or else use past performance to detect anomalies new data. \n",
    "\n",
    "The CLML.time-series system contains functionality to manipulate, analyze time series data. CLML.time-series has a definite opinion on what a time-series is. We will see that after we load some data.\n",
    "\n",
    "Lets get started by loading the system necessary for this tutorial and creating a namespace to work in.\n"
   ]
  },
  {
   "cell_type": "code",
   "execution_count": 1,
   "metadata": {
    "collapsed": false
   },
   "outputs": [
    {
     "name": "stdout",
     "output_type": "stream",
     "text": [
      "To load \"clml.utility\":\n",
      "  Load 1 ASDF system:\n",
      "    clml.utility\n",
      "\n",
      "; Loading \"clml.utility\"\n",
      "....\n",
      "To load \"clml.hjs\":\n",
      "  Load 1 ASDF system:\n",
      "    clml.hjs\n",
      "\n",
      "; Loading \"clml.hjs\"\n",
      "\n",
      "To load \"clml.time-series\":\n",
      "  Load 1 ASDF system:\n",
      "    clml.time-series\n",
      "\n",
      "; Loading \"clml.time-series\"\n",
      "\n",
      "To load \"iolib\":\n",
      "  Load 1 ASDF system:\n",
      "    iolib\n",
      "\n",
      "; Loading \"iolib\"\n",
      ".....\n",
      "To load \"clml.extras.eazy-gnuplot\":\n",
      "  Load 1 ASDF system:\n",
      "    clml.extras.eazy-gnuplot\n",
      "\n",
      "; Loading \"clml.extras.eazy-gnuplot\"\n",
      "\n",
      "To load \"eazy-gnuplot\":\n",
      "  Load 1 ASDF system:\n",
      "    eazy-gnuplot\n",
      "\n",
      "; Loading \"eazy-gnuplot\"\n",
      "\n"
     ]
    },
    {
     "data": {
      "text/plain": [
       "(:CLML.UTILITY :CLML.HJS :CLML.TIME-SERIES :IOLIB :CLML.EXTRAS.EAZY-GNUPLOT\n",
       " :EAZY-GNUPLOT)"
      ]
     },
     "execution_count": 1,
     "metadata": {},
     "output_type": "execute_result"
    }
   ],
   "source": [
    "(ql:quickload '(:clml.utility ; Need clml.utility.data to get data from the net\n",
    "                :clml.hjs ; Need clml.hjs.read-data to poke around the raw dataset\n",
    "                :clml.time-series ; Need Time Series package obviously\n",
    "                :iolib\n",
    "                :clml.extras.eazy-gnuplot\n",
    "                :eazy-gnuplot\n",
    "            ))"
   ]
  },
  {
   "cell_type": "code",
   "execution_count": 2,
   "metadata": {
    "collapsed": false
   },
   "outputs": [
    {
     "data": {
      "text/plain": [
       "#<PACKAGE \"TIME-SERIES-PART-2\">"
      ]
     },
     "execution_count": 2,
     "metadata": {},
     "output_type": "execute_result"
    }
   ],
   "source": [
    "(defpackage #:time-series-part-2\n",
    "  (:use #:cl\n",
    "        #:cl-jupyter-user ; Not needed unless using iPython notebook\n",
    "        #:clml.time-series.read-data\n",
    "        #:clml.time-series.anomaly-detection\n",
    "        #:clml.time-series.exponential-smoothing\n",
    "        #:clml.extras.eazy-gnuplot)\n",
    "  (:import-from #:clml.hjs.read-data #:head-points #:!! #:dataset-dimensions)\n",
    "  (:import-from #:clml.time-series.util #:predict)\n",
    "  (:import-from #:clml.hjs.read-data #:read-data-from-file)\n",
    "  )\n"
   ]
  },
  {
   "cell_type": "code",
   "execution_count": 3,
   "metadata": {
    "collapsed": false
   },
   "outputs": [
    {
     "data": {
      "text/plain": [
       "#<PACKAGE \"TIME-SERIES-PART-2\">"
      ]
     },
     "execution_count": 3,
     "metadata": {},
     "output_type": "execute_result"
    }
   ],
   "source": [
    "(in-package :time-series-part-2)"
   ]
  },
  {
   "cell_type": "markdown",
   "metadata": {},
   "source": [
    "##Data and Datasets\n",
    "\n",
    "We are going to look at how time series data can be used by CLML.\n",
    "First lets get some data...\n"
   ]
  },
  {
   "cell_type": "code",
   "execution_count": 4,
   "metadata": {
    "collapsed": false
   },
   "outputs": [
    {
     "data": {
      "text/plain": [
       "DATASET"
      ]
     },
     "execution_count": 4,
     "metadata": {},
     "output_type": "execute_result"
    }
   ],
   "source": [
    "(defparameter dataset (read-data-from-file \n",
    "        (clml.utility.data:fetch \n",
    "            \"https://mmaul.github.io/clml.data/sample/msi-access-stat/access-log-stat.sexp\")))"
   ]
  },
  {
   "cell_type": "markdown",
   "metadata": {},
   "source": [
    "CLML's main unit of currency in working with data is the dataset. The dataset is a hierarchy series of classes that contain datapoints and metadata. They are similar to dataframes in R or data-tables in Python."
   ]
  },
  {
   "cell_type": "code",
   "execution_count": 5,
   "metadata": {
    "collapsed": false
   },
   "outputs": [
    {
     "data": {
      "text/plain": [
       "#<CLML.HJS.READ-DATA:UNSPECIALIZED-DATASET >\n",
       "DIMENSIONS: date/time | hits\n",
       "TYPES:      UNKNOWN | UNKNOWN\n",
       "NUMBER OF DIMENSIONS: 2\n",
       "DATA POINTS: 9068 POINTS\n"
      ]
     },
     "execution_count": 5,
     "metadata": {},
     "output_type": "execute_result"
    }
   ],
   "source": [
    "dataset"
   ]
  },
  {
   "cell_type": "markdown",
   "metadata": {},
   "source": [
    "CCLML has a number of different specializations of dataset such as\n",
    "  - `unspecialized-dataset` untyped and unspecialized data\n",
    "  - `numeric-dataset` dataset containing numeric (`double-float`) data\n",
    "  - `categor-dataset` dataset for categorical (`string`) data\n",
    "  - `numeric-and-category-dataset` dataset containing a mixture of numeric and categorical data\n",
    "\n",
    "Most relevant to this tutorial\n",
    "  - `time-series-dataset` dataset containing time-series data\n",
    "  \n",
    "Datasets can be created directly or can be created by reading them from a file. Supported data formats or CSV and SEXP.\n",
    "In this case the `read-data-from-file` function is reading a data set from a file. The file in this case is a file that is obtained with the `fetch` function, which downloads and caches a file from a location on a local files system or a URL.\n",
    "\n",
    "Lets take a look at the data, it apparently is from a hit counter.\n",
    "`head-points` gives us the first 5 rows of a dataset ( if we wanted all the rows in a dataset we would have used `dataset-points`"
   ]
  },
  {
   "cell_type": "code",
   "execution_count": 6,
   "metadata": {
    "collapsed": false
   },
   "outputs": [
    {
     "data": {
      "text/plain": [
       "#(#(\"12/May/2008 03:00-03:59\" 210) #(\"12/May/2008 04:00-04:59\" 265)\n",
       "  #(\"12/May/2008 05:00-05:59\" 219) #(\"12/May/2008 06:00-06:59\" 284)\n",
       "  #(\"12/May/2008 07:00-07:59\" 287))"
      ]
     },
     "execution_count": 6,
     "metadata": {},
     "output_type": "execute_result"
    }
   ],
   "source": [
    "(head-points dataset)"
   ]
  },
  {
   "cell_type": "markdown",
   "metadata": {
    "collapsed": false
   },
   "source": [
    "Examining the data it looks like hits collected hourly. `time-series-datasets` can be created with the `time-series` function. \n",
    "\n",
    "Now Lets put this in a turn this into a time-series-dataset so we can do stuff with it."
   ]
  },
  {
   "cell_type": "code",
   "execution_count": 7,
   "metadata": {
    "collapsed": false
   },
   "outputs": [
    {
     "data": {
      "text/plain": [
       "MSI-ACCESS"
      ]
     },
     "execution_count": 7,
     "metadata": {},
     "output_type": "execute_result"
    }
   ],
   "source": [
    "(defparameter msi-access (time-series-data dataset :range '(1) :time-label 0 :frequency 24 :start '(18 3)))"
   ]
  },
  {
   "cell_type": "code",
   "execution_count": 8,
   "metadata": {
    "collapsed": false
   },
   "outputs": [
    {
     "data": {
      "text/plain": [
       "#<TIME-SERIES-DATASET >\n",
       "DIMENSIONS: hits\n",
       "TYPES:      NUMERIC\n",
       "NUMBER OF DIMENSIONS: 1\n",
       "FREQUENCY:  24\n",
       "START:      (18 3)\n",
       "END:        (395 22)\n",
       "POINTS:     9068\n",
       "TIME-LABEL: date/time\n"
      ]
     },
     "execution_count": 8,
     "metadata": {},
     "output_type": "execute_result"
    }
   ],
   "source": [
    "msi-access"
   ]
  },
  {
   "cell_type": "markdown",
   "metadata": {},
   "source": [
    "This is the point where we will talk about CLML.time-series's definite opinions about time series. Time series in CLML.time-series are [discrete](https://en.wikipedia.org/wiki/Discrete_time_and_continuous_time). In `CLML.time-series`'s opinion time series have a regular frequency. (This implies that time series data must have a reading at each period. However `CLML.time-series` does support missing values which will be covered in a later part of this series) The representation of frequency is a important, especially when comparing time-series points at regular intervals. The `FREQUENCY` slot specifies the number of datapoints per cycle. The `START` slot indicates the starting time index and frequency interval. The measurements are contained in the points slot and are represented as a vector of `ts-point` objects. Another useful thing to know is the slot accessor prefix is `ts-`\n",
    "\n",
    "In fact in the dataset we just created if you look at the raw dataset above you will see there are no time specifiers in the data (there are labels however but they are not used in computations). This can actually be very important if your time-series has literally astronomical ranges. Some time-series libraries/databases encode the index as seconds or milliseconds from some fixed point in time. Doing that then constricts the ability of the time series to represent times to the range of the datatype being used to encode the time index. To be fair CLML.time-series in effect is doing the same thing however the time index is relative and the time indices can range from 0 to `most-positive-fixnum` (~4.6e18 in SBCL) given a datapoint is defined by the time and frequency interval (which also range from 0 to `most-positive-fixnum` the number of theoretically possible datapoints in a time series is `most-positive-fixnum` squared (in SBCL this would be greater than 2.0e35)\n",
    "\n",
    "Lets look at the points in the dataset to see how they are represented."
   ]
  },
  {
   "cell_type": "code",
   "execution_count": 9,
   "metadata": {
    "collapsed": false
   },
   "outputs": [
    {
     "data": {
      "text/plain": [
       "#(#S(CLML.TIME-SERIES.READ-DATA::TS-POINT\n",
       "     :TIME 18\n",
       "     :FREQ 3\n",
       "     :LABEL \"12/May/2008 03:00-03:59\"\n",
       "     :POS #(210.0d0))\n",
       "  #S(CLML.TIME-SERIES.READ-DATA::TS-POINT\n",
       "     :TIME 18\n",
       "     :FREQ 4\n",
       "     :LABEL \"12/May/2008 04:00-04:59\"\n",
       "     :POS #(265.0d0))\n",
       "  #S(CLML.TIME-SERIES.READ-DATA::TS-POINT\n",
       "     :TIME 18\n",
       "     :FREQ 5\n",
       "     :LABEL \"12/May/2008 05:00-05:59\"\n",
       "     :POS #(219.0d0))\n",
       "  #S(CLML.TIME-SERIES.READ-DATA::TS-POINT\n",
       "     :TIME 18\n",
       "     :FREQ 6\n",
       "     :LABEL \"12/May/2008 06:00-06:59\"\n",
       "     :POS #(284.0d0))\n",
       "  #S(CLML.TIME-SERIES.READ-DATA::TS-POINT\n",
       "     :TIME 18\n",
       "     :FREQ 7\n",
       "     :LABEL \"12/May/2008 07:00-07:59\"\n",
       "     :POS #(287.0d0)))"
      ]
     },
     "execution_count": 9,
     "metadata": {},
     "output_type": "execute_result"
    }
   ],
   "source": [
    "(subseq(ts-points msi-access) 0 5)"
   ]
  },
  {
   "cell_type": "markdown",
   "metadata": {},
   "source": [
    "he `ts-point` class encodes each measurement maintaining the time and frequency interval, a label (which is just a string, ad the actual measurements. The measurements in the `pos` slot are stored in a vector arbitrary length. Looking back to **IN[8]** you can see when we gave `time-series` a start time of 18 , and a start frequency interval of 3 we can see by examining the `ts-points`s how this is actually represented. Another useful thing to know is that the accessor prefix of `ts-point` is `ts-s-`\n",
    "\n",
    "`time-series-datasets` can also be created programattically.\n",
    "Some examples are:\n",
    "\n",
    "    (make-constant-time-series-data  '(\"a\") (vector (clml.hjs.meta:make-dvec 1)))\n",
    "    (make-constant-time-series-data '(\"price\") (vector (v2dvec #(43.2d0)) (v2dvec #(44.0d0)) (v2dvec #(1049.0d0))))\n",
    "\n",
    "## Plotting Datasets   \n",
    "\n",
    "Lets plot our data with the `clml.extras.eazy-gnuplot:plot-dataset`. \n",
    "\n",
    "Some quick things to note about the `plot-dataset` method:\n",
    "  - The only required arguments are `dataset` and `y-col`\n",
    "  - The terminal defaults to `:wxt :persist` so for use in a notebook we specify a **PNG** terminal\n",
    "  - The `svg` function is used to render the plot in the notebook\n",
    "  - `eazy-gnuplot` is used as the plotting library all plotting arguments follow gnuplot and `eazy-gnuplot`'s conventions\n",
    "  - The `:range` argument specifies the start and end of the points to display\n",
    "  - The `:frequencies` argument is a list of frequencies to plot, handy for observing behavior over specific intervals.\n"
   ]
  },
  {
   "cell_type": "code",
   "execution_count": 10,
   "metadata": {
    "collapsed": false
   },
   "outputs": [
    {
     "data": {
      "image/png": "[encoded data removed]",
      "text/plain": [
       "#<CL-JUPYTER-USER::PNG-BYTES {10083A40F3}>"
      ]
     },
     "execution_count": 10,
     "metadata": {},
     "output_type": "execute_result"
    }
   ],
   "source": [
    "(progn\n",
    "    (plot-dataset msi-access \"hits\" :terminal '(:png)\n",
    "        :range '(0 40) :title \"MSI Access Log - first 40 points\" :ytics-font \",8\" :xtics-font \",8\"\n",
    "        :xlabel-font \",15\" :ylabel-font \",15\" :output \"msi_access_log_40.png\")\n",
    "        (display-png (png-from-file \"msi_access_log_40.png\")))"
   ]
  },
  {
   "cell_type": "markdown",
   "metadata": {},
   "source": [
    "Now lets look at the whole dataset. Since each `ts-point` has a label our x axis would get overwhelmed with labels, we use the `:xtic-interval` to specify that we only want labels displayed every 500 points."
   ]
  },
  {
   "cell_type": "code",
   "execution_count": 13,
   "metadata": {
    "collapsed": false
   },
   "outputs": [
    {
     "data": {
      "image/png": "[encoded data removed]",
      "text/plain": [
       "#<CL-JUPYTER-USER::PNG-BYTES {1002CC6083}>"
      ]
     },
     "execution_count": 13,
     "metadata": {},
     "output_type": "execute_result"
    }
   ],
   "source": [
    "(progn\n",
    " (plot-dataset msi-access \"hits\" :terminal '(:png )\n",
    "        :title \"MSI Access Log\" :ytics-font \",8\" :xtics-font \",8\"\n",
    "        :xlabel-font \",15\" :ylabel-font \",15\" :xtic-interval 500 :output \"msi_access_log.png\")\n",
    " (display-png (png-from-file \"msi_access_log.png\")))"
   ]
  },
  {
   "cell_type": "markdown",
   "metadata": {},
   "source": [
    "##Cleaning Datasets\n",
    "\n",
    "Sometimes data may have missing values or outliers. It is not unusual to have a broken or malfunctioning sensor generating your data. We have a way of dealing with that.\n",
    "\n",
    "The `time-series-dataset` class has a `ts-cleaning` method which can clean missing values an outliers. Lets look at the documentation:\n",
    "\n",
    "    TS-CLEANING names a generic function:\n",
    "      Lambda-list: (D &KEY)\n",
    "      Derived type: (FUNCTION (T &KEY) *)\n",
    "      Documentation:\n",
    "        - return: <time-series-dataset>\n",
    "        - arguments:\n",
    "            - d : <time-series-dataset>\n",
    "            - interp-types-alist: \n",
    "                 a-list (key: column name, datum: interpolation(:zero :min :max :mean :median :mode :spline)) | nil\n",
    "            - outlier-types-alist: \n",
    "                 a-list (key: column name, datum: outlier-verification(:std-dev :mean-dev :user :smirnov-grubbs \n",
    "                              :freq)) | nil\n",
    "            - outlier-values-alist : \n",
    "                 a-list (key: outlier-verification datum: the value according to outlier-verification) | nil\n",
    "       - comment:\n",
    "           Same as /dataset-cleaning/ in read-data package.\n",
    "\n",
    "Lets give it a try. In particular lets set the threshold for outliers to 5 standard deviations and set the interpolation method to mean."
   ]
  },
  {
   "cell_type": "code",
   "execution_count": 15,
   "metadata": {
    "collapsed": false
   },
   "outputs": [
    {
     "data": {
      "text/plain": [
       "C-MSI-ACCESS"
      ]
     },
     "execution_count": 15,
     "metadata": {},
     "output_type": "execute_result"
    }
   ],
   "source": [
    "(defparameter c-msi-access \n",
    "    (ts-cleaning msi-access :outlier-types-alist '((\"hits\" . :std-dev)) \n",
    "                            :outlier-values-alist '((:std-dev . 5)) \n",
    "                            :interp-types-alist '((\"hits\" . :mean))))"
   ]
  },
  {
   "cell_type": "code",
   "execution_count": 16,
   "metadata": {
    "collapsed": false
   },
   "outputs": [
    {
     "data": {
      "image/png": "[encoded data removed]",
      "text/plain": [
       "#<CL-JUPYTER-USER::PNG-BYTES {1003D327E3}>"
      ]
     },
     "execution_count": 16,
     "metadata": {},
     "output_type": "execute_result"
    }
   ],
   "source": [
    "(let ((png-file \"clean-msi-access-log\")) \n",
    " (plot-dataset c-msi-access \"hits\" :terminal '(:png)\n",
    "        :title \"Cleaned MSI Access Log\" :ytics-font \",8\" :xtics-font \",8\"\n",
    "        :xlabel-font \",15\" :ylabel-font \",15\" :xtic-interval 500\n",
    "        :yrange '(0 8000) \n",
    "        :output png-file)\n",
    "  (display-png (png-from-file png-file)))"
   ]
  },
  {
   "cell_type": "markdown",
   "metadata": {},
   "source": [
    "Notice the datapoint near 13 July 2008 15:00 to 15:59 that previously spiked to over 7000, is now more reasonable.\n",
    "\n",
    "##Conclusion\n",
    "I would like to thank Fredreric Peschanski the creator of [`fishbowl`](https://github.com/fredokun/fishbowl-repl) which provides common lisp support for iPython. I would also like to thank Masataro Asai the creator of [`eazy-gnuplot`](https://github.com/guicho271828/eazy-gnuplot/). I would like to thank the creators of iPython and project [Jupyter](http://jupyter.org/) a truly cross platform mechanisim for th presentation of code and content. Finally I would like to thank github for [providing the ability to view notebooks inside github repositories] (http://blog.jupyter.org/2015/05/07/rendering-notebooks-on-github/)\n",
    "\n",
    "The iPython notebook and source for this tutorial can be found in the [clml.tutorials https://github.com/mmaul/clml.tutorials.git](https://github.com/mmaul/clml.tutorials.git) github repository.\n",
    "\n",
    "###Stay tuned to [clml.tutorials](https://mmaul.github.io/clml.tutorials/) blog or [RSS feed](https://mmaul.github.io/clml.tutorials/feed.xml) for Part II which will cover prediction, anomaly-detection."
   ]
  }
 ],
 "metadata": {
  "kernelspec": {
   "display_name": "SBCL Lisp",
   "language": "lisp",
   "name": "lisp"
  },
  "language_info": {
   "name": "common-lisp",
   "version": "1.2.7"
  }
 },
 "nbformat": 4,
 "nbformat_minor": 0
}
