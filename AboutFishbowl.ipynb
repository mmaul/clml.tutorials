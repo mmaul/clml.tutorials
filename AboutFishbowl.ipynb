{
 "cells": [
  {
   "cell_type": "markdown",
   "metadata": {},
   "source": [
    "# Fishbowl: an enhanced interactive Shell for Common Lisp"
   ]
  },
  {
   "cell_type": "markdown",
   "metadata": {},
   "source": [
    "> (C) 2015 Frederic Peschanski -- CC-BY-SA 3.0"
   ]
  },
  {
   "cell_type": "markdown",
   "metadata": {},
   "source": [
    "This document is a short presentation of *Fishbowl* which is, technically-speaking, a Common Lisp implementation of an IPython kernel. So what does this means in practice ?  Let's see.\n",
    "\n"
   ]
  },
  {
   "cell_type": "markdown",
   "metadata": {},
   "source": [
    "## A (somewhat poor man's) distributed Lisp REPL"
   ]
  },
  {
   "cell_type": "markdown",
   "metadata": {},
   "source": [
    "Basically IPython is a better shell (understand REPL) for the Python programming language. So what the h.ck is the relationship with Lisp ? Well, the IPython architecture allows distributed (unsecure !) interactions between :\n",
    "\n",
    " - clients -- called *frontends* -- that manage the user-part of the interactions : reading expressions, printing results and such, and\n",
    " \n",
    "  - servers -- called *kernels* -- that actually perform the computations.\n",
    "  \n",
    "So in an IPython REPL, the frontends play the R and P parts, while the kernels play the E part.\n",
    "\n",
    "Fishbowl is thus the Eval part while the existing IPython frontends can be used for Reading and Printing.\n",
    "\n",
    "Basic interactions would look like the following :"
   ]
  },
  {
   "cell_type": "code",
   "execution_count": 1,
   "metadata": {
    "collapsed": false
   },
   "outputs": [
    {
     "data": {
      "text/plain": [
       "14"
      ]
     },
     "execution_count": 1,
     "metadata": {},
     "output_type": "execute_result"
    }
   ],
   "source": [
    "(+ 2 13)"
   ]
  },
  {
   "cell_type": "markdown",
   "metadata": {},
   "source": [
    "Things happen like these :\n",
    "\n",
    "  - first, the frontend reads the Lisp expression `(+ 2 12)`\n",
    "  \n",
    "  - this expression is sent, through the network (ZMQ sockets to be precise), to the Fishbowl kernel, which performs the corresponding computation (thanks to the `eval` function of course).\n",
    "  \n",
    "  - the resuling value `14` is then sent back to the frontend for printing, and that's it.\n",
    "  \n",
    "In case the expression yields side effects, such as writing a file, these are actually performed by Fishbowl so one should take care servicing kernels only on private networks ! The standard output and error streams are captured and thus visible from the frontend side."
   ]
  },
  {
   "cell_type": "code",
   "execution_count": 2,
   "metadata": {
    "collapsed": false
   },
   "outputs": [
    {
     "name": "stdout",
     "output_type": "stream",
     "text": [
      "I compute (+ 2 12), yielding 14"
     ]
    },
    {
     "data": {
      "text/plain": [
       "NIL"
      ]
     },
     "execution_count": 2,
     "metadata": {},
     "output_type": "execute_result"
    }
   ],
   "source": [
    "(format t \"I compute (+ 2 12), yielding ~A\" (+ 2 12))"
   ]
  },
  {
   "cell_type": "markdown",
   "metadata": {},
   "source": [
    "The second expression, namely `In [2]`, yields the `NIL` value, namely `Out [2]`, but the formatted string written on the `*standard-output*` stream is also printed.\n",
    "\n",
    "Errors are also printed,as the following (counter-)example shows :"
   ]
  },
  {
   "cell_type": "code",
   "execution_count": 3,
   "metadata": {
    "collapsed": false
   },
   "outputs": [
    {
     "name": "stderr",
     "output_type": "stream",
     "text": [
      "DIVISION-BY-ZERO: \n",
      "  #<DIVISION-BY-ZERO {1006865443}>\n"
     ]
    },
    {
     "data": {
      "text/plain": [
       "NIL"
      ]
     },
     "execution_count": 3,
     "metadata": {},
     "output_type": "execute_result"
    }
   ],
   "source": [
    "(/ 2 0)"
   ]
  },
  {
   "cell_type": "markdown",
   "metadata": {},
   "source": [
    "We remark that, at least in the current version, Fishbowl does *not* support interactions with the Lisp debugger.\n",
    "\n",
    "This is a good moment to stay something important :\n",
    "\n",
    "> Fishbowl is **not** intended as a replacement for SlimE or SlimV.\n",
    "\n",
    "Indeed, this would imply replacing Emacs of Vim for starting with ...\n",
    "\n",
    "At the very best, Fishbowl (together with the IPython frontend) could be seen as a replacement for the basic REPL of most Common Lisp implementations (as for now without the debugger).  An interface with Swank (the \"kernel\" part of SlimE/V) would be a strong improvement here, but that is only for now a wish (contributors welcome !).\n",
    "\n",
    "Some features might already prove useful. First and foremost, the distributed architecture of IPython/Fishbowl allows to connect multiple frontends to multiple kernels, as well as exchanging Data. Since IPython kernels exist for a growing number of programming languages (Python, Ruby, Julia, Ocaml, Haskell, etc.), this opens many possibilities such as writing interactive distributed applications developped in a multi-languages environment (which appeals much more to me than the *everything-in-javascript* trend of the moment).\n",
    "\n",
    "But a question remains: is *Fishbowl* bringing something to the Lisp table ?  Obviously, a not-really-better REPL does not.  The main reason why *Fishbowl* was written in the first place is for supporting IPython *notebooks*. "
   ]
  },
  {
   "cell_type": "markdown",
   "metadata": {},
   "source": [
    "## A Lisp environment for interactive documents"
   ]
  },
  {
   "cell_type": "markdown",
   "metadata": {},
   "source": [
    "So what is a notebook ? Well, that's easy, this is what you are reading now !\n",
    "\n",
    "It is a document mixing :\n",
    "\n",
    "  - *Markdown*-formatted **text**  (optionally including *Latex/Mathjax* formulas)\n",
    "  \n",
    "  - **Computations** described in various language, Common Lisp as far as Fishbowl is concerned.\n",
    "  \n",
    "For example, *Leonardo* may write a fantastically clever algorithm for an important computation :"
   ]
  },
  {
   "cell_type": "code",
   "execution_count": 4,
   "metadata": {
    "collapsed": false
   },
   "outputs": [
    {
     "data": {
      "text/plain": [
       "FIBONACCI"
      ]
     },
     "execution_count": 4,
     "metadata": {},
     "output_type": "execute_result"
    }
   ],
   "source": [
    "(defun fibonacci (n)\n",
    "    (if (<= n 1)\n",
    "        1\n",
    "        (+ (fibonacci (- n 2)) (fibonacci (- n 1)))))"
   ]
  },
  {
   "cell_type": "markdown",
   "metadata": {},
   "source": [
    "And then, Leonardo can answer one of its most desired question :"
   ]
  },
  {
   "cell_type": "code",
   "execution_count": 5,
   "metadata": {
    "collapsed": false
   },
   "outputs": [
    {
     "data": {
      "text/plain": [
       "89"
      ]
     },
     "execution_count": 5,
     "metadata": {},
     "output_type": "execute_result"
    }
   ],
   "source": [
    "(fibonacci 10)"
   ]
  },
  {
   "cell_type": "code",
   "execution_count": 6,
   "metadata": {
    "collapsed": false
   },
   "outputs": [
    {
     "data": {
      "text/plain": [
       "(1 1 2 3 5 8 13 21 34 55)"
      ]
     },
     "execution_count": 6,
     "metadata": {},
     "output_type": "execute_result"
    }
   ],
   "source": [
    "(loop for k below 10 collect (fibonacci k))"
   ]
  },
  {
   "cell_type": "markdown",
   "metadata": {},
   "source": [
    "and then, comment about such computations, such that making conjectures or wonderings...\n",
    "\n",
    "What about $\\lim_{k \\rightarrow +\\infty} \\frac{F_{k+1}}{F_k}$  with $F_k$ the $k$-th term of the Fibonacci serie ?\n",
    "\n",
    "Well, let's check this ..."
   ]
  },
  {
   "cell_type": "code",
   "execution_count": 7,
   "metadata": {
    "collapsed": false
   },
   "outputs": [
    {
     "data": {
      "text/plain": [
       "(3/2 5/3 8/5 13/8 21/13 34/21 55/34 89/55 144/89 233/144 377/233 610/377\n",
       " 987/610 1597/987 2584/1597 4181/2584 6765/4181 10946/6765)"
      ]
     },
     "execution_count": 7,
     "metadata": {},
     "output_type": "execute_result"
    }
   ],
   "source": [
    "(loop for k from 2 below 20 collect (/ (fibonacci (1+ k)) (fibonacci k)))"
   ]
  },
  {
   "cell_type": "markdown",
   "metadata": {},
   "source": [
    "*Oops* ... don't want the exact rational values but approximations ..."
   ]
  },
  {
   "cell_type": "code",
   "execution_count": 8,
   "metadata": {
    "collapsed": false
   },
   "outputs": [
    {
     "data": {
      "text/plain": [
       "(1.5 1.6666666 1.6 1.625 1.6153846 1.6190476 1.617647 1.6181818 1.6179775\n",
       " 1.6180556 1.6180258 1.6180371 1.6180328 1.6180345 1.6180338 1.618034 1.618034\n",
       " 1.618034)"
      ]
     },
     "execution_count": 8,
     "metadata": {},
     "output_type": "execute_result"
    }
   ],
   "source": [
    "(loop \n",
    " for k from 2 below 20 \n",
    " collect (float (/ (fibonacci (1+ k)) (fibonacci k))))"
   ]
  },
  {
   "cell_type": "markdown",
   "metadata": {},
   "source": [
    "What is this value $1.618034$ ?  ... seems not far from ... $\\frac{1+\\sqrt{5}}{2}$"
   ]
  },
  {
   "cell_type": "code",
   "execution_count": 9,
   "metadata": {
    "collapsed": false
   },
   "outputs": [
    {
     "data": {
      "text/plain": [
       "1.618034"
      ]
     },
     "execution_count": 9,
     "metadata": {},
     "output_type": "execute_result"
    }
   ],
   "source": [
    "(/ (+ 1 (sqrt 5))\n",
    "   2)"
   ]
  },
  {
   "cell_type": "markdown",
   "metadata": {},
   "source": [
    "Don't you think this number looks shiny ?"
   ]
  },
  {
   "cell_type": "markdown",
   "metadata": {},
   "source": [
    "This (probably unsuccessful) half-joke at least summarizes the way I am using notebooks in my own teaching and research work.\n",
    "\n",
    "At the technical level, the IPython notebook server is simply a frontend developped as a complete web application that can connect to any kernel, among which of course Fishbowl."
   ]
  },
  {
   "cell_type": "markdown",
   "metadata": {},
   "source": [
    "## Multi-format document processing"
   ]
  },
  {
   "cell_type": "markdown",
   "metadata": {},
   "source": [
    "The internal representation of a notebook is a JSON document with a very simple structure. Hence, it is very easy to convert the notebook file to various representations.  This can be done at the JSON level but there are higher-level tools to ease such conversion."
   ]
  },
  {
   "cell_type": "markdown",
   "metadata": {},
   "source": [
    "### PDF document"
   ]
  },
  {
   "cell_type": "markdown",
   "metadata": {},
   "source": [
    "To generate a PDF document, the default is to simply use IPython's `nbconvert` tool :\n",
    "\n",
    "```\n",
    "ipython3 nbconvert <myfile>.ipynb --to latex --post pdf\n",
    "```\n",
    "\n",
    "This will generate a file `<myfile>.pdf` that is in general quite readable. The process is to generate first a `pandoc` markdown document from the JSon representation, and then relying `pandoc` to generate a Latex document that is finally processed by a `latex` tool (by default `pdflatex`) to generate the final document. A lot of machinery but this works remarkably well !  You can see for yourself with the `AboutFishbowl.pdf` document generated from the present notebook."
   ]
  },
  {
   "cell_type": "markdown",
   "metadata": {},
   "source": [
    "## Rich display"
   ]
  },
  {
   "cell_type": "markdown",
   "metadata": {},
   "source": [
    "The notebook provide rich display for textual and graphical data. The package `fishbowl-user` provides a few functions for producing displayable data in Lisp.\n",
    "\n",
    "By default, the Lisp backend works in the `fishbowl-user` package, which we can check right away:"
   ]
  },
  {
   "cell_type": "code",
   "execution_count": 10,
   "metadata": {
    "collapsed": false
   },
   "outputs": [
    {
     "data": {
      "text/plain": [
       "#<PACKAGE \"FISHBOWL-USER\">"
      ]
     },
     "execution_count": 10,
     "metadata": {},
     "output_type": "execute_result"
    }
   ],
   "source": [
    "*package*"
   ]
  },
  {
   "cell_type": "markdown",
   "metadata": {},
   "source": [
    "### Customized plain text"
   ]
  },
  {
   "cell_type": "markdown",
   "metadata": {},
   "source": [
    "By default, the data produced by the Lisp kernel is formatted as in `(format t \"~S\" <data>)`, i.e. roughly the same way the Lisp REPL works. The produced Lisp string is then encoded as a JSON string and sent back to the frontend(s).\n",
    "\n",
    "Let's see what happens with a string."
   ]
  },
  {
   "cell_type": "code",
   "execution_count": 11,
   "metadata": {
    "collapsed": false
   },
   "outputs": [
    {
     "data": {
      "text/plain": [
       "\"this is a string with a\n",
       "new line\""
      ]
     },
     "execution_count": 11,
     "metadata": {},
     "output_type": "execute_result"
    }
   ],
   "source": [
    "\"this is a string with a\n",
    "new line\""
   ]
  },
  {
   "cell_type": "markdown",
   "metadata": {},
   "source": [
    "Suppose now we would like to define a particular kind of string where new lines are replaced (in the shown output) by JSon new lines, i.e. the string `\"\\n\"`.\n",
    "\n",
    "The simplest way to do so is to create a CLOS class to encoded our special strings."
   ]
  },
  {
   "cell_type": "code",
   "execution_count": 12,
   "metadata": {
    "collapsed": false
   },
   "outputs": [
    {
     "data": {
      "text/plain": [
       "#<STANDARD-CLASS CUSTOM-STRING>"
      ]
     },
     "execution_count": 12,
     "metadata": {},
     "output_type": "execute_result"
    }
   ],
   "source": [
    "(defclass custom-string ()\n",
    "    ((content :initarg :content :reader cstr-content)))"
   ]
  },
  {
   "cell_type": "code",
   "execution_count": 13,
   "metadata": {
    "collapsed": false
   },
   "outputs": [
    {
     "data": {
      "text/plain": [
       "CUSTOM-STRING"
      ]
     },
     "execution_count": 13,
     "metadata": {},
     "output_type": "execute_result"
    }
   ],
   "source": [
    "(defun custom-string (str)\n",
    "    (make-instance 'custom-string :content str))"
   ]
  },
  {
   "cell_type": "markdown",
   "metadata": {},
   "source": [
    "Now, we have to specialize a generic method `render-plain` to produce our customized strings."
   ]
  },
  {
   "cell_type": "code",
   "execution_count": 14,
   "metadata": {
    "collapsed": false
   },
   "outputs": [
    {
     "data": {
      "text/plain": [
       "#<STANDARD-METHOD RENDER-PLAIN (CUSTOM-STRING) {1006DDAD33}>"
      ]
     },
     "execution_count": 14,
     "metadata": {},
     "output_type": "execute_result"
    }
   ],
   "source": [
    "(defmethod render-plain ((str-obj custom-string))\n",
    "    (let ((ncontent (make-array (length (cstr-content str-obj)) \n",
    "                                :element-type 'character :fill-pointer 0 :adjustable t)))\n",
    "        (loop for char across (cstr-content str-obj)\n",
    "              for index from 0\n",
    "              do (cond ((char= char #\\Newline)\n",
    "                        (vector-push-extend #\\\\ ncontent)\n",
    "                        (vector-push-extend #\\n ncontent))\n",
    "                       (t (vector-push-extend char ncontent))))\n",
    "         (format nil \"\\\"~A\\\"\" ncontent)))"
   ]
  },
  {
   "cell_type": "markdown",
   "metadata": {},
   "source": [
    "Let's try our customized strings ..."
   ]
  },
  {
   "cell_type": "code",
   "execution_count": 15,
   "metadata": {
    "collapsed": false
   },
   "outputs": [
    {
     "data": {
      "text/plain": [
       "\"this is a customized string with a\\n new line\""
      ]
     },
     "execution_count": 15,
     "metadata": {},
     "output_type": "execute_result"
    }
   ],
   "source": [
    "(custom-string \"this is a customized string with a\n",
    " new line\")"
   ]
  },
  {
   "cell_type": "markdown",
   "metadata": {},
   "source": [
    "### Programmatically-generated Latex"
   ]
  },
  {
   "cell_type": "markdown",
   "metadata": {},
   "source": [
    "A nice feature of the notebook is that one may use Latex to describe mathematical formulas. This can be done in the markdown cells, by directly writing the formulas. \n",
    "\n",
    "For example: `$\\frac{17}{48}$` will give: $\\frac{17}{48}$"
   ]
  },
  {
   "cell_type": "markdown",
   "metadata": {},
   "source": [
    "It is also possible to generate latex on the kernel side using Lisp code. The `latex` function simplifies the process :"
   ]
  },
  {
   "cell_type": "code",
   "execution_count": 16,
   "metadata": {
    "collapsed": false
   },
   "outputs": [
    {
     "data": {
      "text/latex": [
       "$\\frac{17}{48}$"
      ],
      "text/plain": [
       "#<LATEX-TEXT {1006ED5973}>"
      ]
     },
     "execution_count": 16,
     "metadata": {},
     "output_type": "execute_result"
    }
   ],
   "source": [
    "(latex \"$\\\\frac{17}{48}$\")"
   ]
  },
  {
   "cell_type": "markdown",
   "metadata": {},
   "source": [
    "Note that the backslash must be escaped in the Lisp string. Thanks to this `latex` function, we can generate latex content programmatically, as in the following example :"
   ]
  },
  {
   "cell_type": "code",
   "execution_count": 17,
   "metadata": {
    "collapsed": false
   },
   "outputs": [
    {
     "data": {
      "text/plain": [
       "SHOW-FRACTION"
      ]
     },
     "execution_count": 17,
     "metadata": {},
     "output_type": "execute_result"
    }
   ],
   "source": [
    "(defun show-fraction (num den)\n",
    "    (latex (format nil \"$\\\\frac{~A}{~A}$\" num den)))"
   ]
  },
  {
   "cell_type": "code",
   "execution_count": 18,
   "metadata": {
    "collapsed": false
   },
   "outputs": [
    {
     "data": {
      "text/latex": [
       "$\\frac{17}{48}$"
      ],
      "text/plain": [
       "#<LATEX-TEXT {1006FD2613}>"
      ]
     },
     "execution_count": 18,
     "metadata": {},
     "output_type": "execute_result"
    }
   ],
   "source": [
    "(show-fraction 17 48)"
   ]
  },
  {
   "cell_type": "markdown",
   "metadata": {},
   "source": [
    "### Raw HTML content"
   ]
  },
  {
   "cell_type": "markdown",
   "metadata": {},
   "source": [
    "It is of course also possible to generate raw HTML content directly from Lisp. This is not recommanded however in the case the intent is to generate beautiful printouts of the notebook. But the HTML generation can be useful at times."
   ]
  },
  {
   "cell_type": "code",
   "execution_count": 19,
   "metadata": {
    "collapsed": false
   },
   "outputs": [
    {
     "data": {
      "text/html": [
       "<h3 style=\"color:red\">Important</h3>\n",
       "       <p style=\"color:blue\">Fishbowl is <strong style=\"color:green\">nice</strong>.</p>"
      ],
      "text/plain": [
       "#<HTML-TEXT {1007001F53}>"
      ]
     },
     "execution_count": 19,
     "metadata": {},
     "output_type": "execute_result"
    }
   ],
   "source": [
    "(html \"<h3 style=\\\"color:red\\\">Important</h3>\n",
    "       <p style=\\\"color:blue\\\">Fishbowl is <strong style=\\\"color:green\\\">nice</strong>.</p>\")"
   ]
  },
  {
   "cell_type": "markdown",
   "metadata": {},
   "source": [
    "You can *of course* use your favorite HTML framework to generate your content. Here is an example."
   ]
  },
  {
   "cell_type": "code",
   "execution_count": 20,
   "metadata": {
    "collapsed": false
   },
   "outputs": [
    {
     "data": {
      "text/plain": [
       "(\"cl-markup\")"
      ]
     },
     "execution_count": 20,
     "metadata": {},
     "output_type": "execute_result"
    }
   ],
   "source": [
    "(ql:quickload \"cl-markup\")"
   ]
  },
  {
   "cell_type": "code",
   "execution_count": 21,
   "metadata": {
    "collapsed": false
   },
   "outputs": [
    {
     "data": {
      "text/html": [
       "<table border=\"0\" cellpadding=\"4\"><tr align=\"right\"><td bgcolor=\"green\">I</td><td bgcolor=\"pink\">II</td><td bgcolor=\"green\">III</td><td bgcolor=\"pink\">IV</td><td bgcolor=\"green\">V</td></tr><tr align=\"right\"><td bgcolor=\"pink\">VI</td><td bgcolor=\"green\">VII</td><td bgcolor=\"pink\">VIII</td><td bgcolor=\"green\">IX</td><td bgcolor=\"pink\">X</td></tr><tr align=\"right\"><td bgcolor=\"green\">XI</td><td bgcolor=\"pink\">XII</td><td bgcolor=\"green\">XIII</td><td bgcolor=\"pink\">XIV</td><td bgcolor=\"green\">XV</td></tr><tr align=\"right\"><td bgcolor=\"pink\">XVI</td><td bgcolor=\"green\">XVII</td><td bgcolor=\"pink\">XVIII</td><td bgcolor=\"green\">XIX</td><td bgcolor=\"pink\">XX</td></tr><tr align=\"right\"><td bgcolor=\"green\">XXI</td><td bgcolor=\"pink\">XXII</td><td bgcolor=\"green\">XXIII</td><td bgcolor=\"pink\">XXIV</td><td bgcolor=\"green\">XXV</td></tr></table>"
      ],
      "text/plain": [
       "#<HTML-TEXT {1007F48D73}>"
      ]
     },
     "execution_count": 21,
     "metadata": {},
     "output_type": "execute_result"
    }
   ],
   "source": [
    "(html (markup:markup\n",
    "       (:table :border 0 :cellpadding 4\n",
    "               (loop for i below 25 by 5\n",
    "                     collect (markup:markup \n",
    "                              (:tr :align \"right\"\n",
    "                                   (loop for j from i below (+ i 5)\n",
    "                                         collect (markup:markup\n",
    "                                                  (:td :bgcolor\n",
    "                                                       (if (oddp j) \"pink\" \"green\")\n",
    "                                                       (format nil \"~@R\" (1+ j)))))))))))"
   ]
  },
  {
   "cell_type": "markdown",
   "metadata": {},
   "source": [
    "Remark that the table is *not* visible in the generated PDF. For non-textual content it is actually preferable to use images."
   ]
  },
  {
   "cell_type": "markdown",
   "metadata": {},
   "source": [
    "### Vector images as SVG"
   ]
  },
  {
   "cell_type": "markdown",
   "metadata": {},
   "source": [
    "There are two types of computerized representation for images: bitmap and vectorial. Nowadays, the popular format for vector images is **SVG** (\\emph{Scalable Vector Graphics}). If a few years back the support for svg images was quiet imperfect, modern browsers and tools have somewhat settled on how svg images should render.\n",
    "\n",
    "Basically a SVG is a W3C recommendation and is thus an XML-based format. The advantage is that the format is *open* (as opposed to *proprietary*)  not tied to a specific tools. Hence anyone can create a SVG image using a simple text editor.  Of course, Fishbowl and then the notebook can interpret this textual description as an image.\n",
    "\n",
    "Let's try ..."
   ]
  },
  {
   "cell_type": "code",
   "execution_count": 1,
   "metadata": {
    "collapsed": false
   },
   "outputs": [
    {
     "data": {
      "image/svg+xml": [
       "<svg height=\"400\" width=\"450\">\n",
       "<path id=\"lineAB\" d=\"M 100 350 l 150 -300\" stroke=\"red\" stroke-width=\"3\" fill=\"none\" />\n",
       "  <path id=\"lineBC\" d=\"M 250 50 l 150 300\" stroke=\"red\" stroke-width=\"3\" fill=\"none\" />\n",
       "  <path d=\"M 175 200 l 150 0\" stroke=\"green\" stroke-width=\"3\" fill=\"none\" />\n",
       "  <path d=\"M 100 350 q 150 -300 300 0\" stroke=\"blue\" stroke-width=\"5\" fill=\"none\" />\n",
       "  <!-- Mark relevant points -->\n",
       "  <g stroke=\"black\" stroke-width=\"3\" fill=\"black\">\n",
       "    <circle id=\"pointA\" cx=\"100\" cy=\"350\" r=\"3\" />\n",
       "    <circle id=\"pointB\" cx=\"250\" cy=\"50\" r=\"3\" />\n",
       "    <circle id=\"pointC\" cx=\"400\" cy=\"350\" r=\"3\" />\n",
       "  </g>\n",
       "  <!-- Label the points -->\n",
       "  <g font-size=\"30\" font=\"sans-serif\" fill=\"black\" stroke=\"none\" text-anchor=\"middle\">\n",
       "    <text x=\"100\" y=\"350\" dx=\"-30\">A</text>\n",
       "    <text x=\"250\" y=\"50\" dy=\"-10\">B</text>\n",
       "    <text x=\"400\" y=\"350\" dx=\"30\">C</text>\n",
       "  </g>\n",
       "</svg>"
      ],
      "text/plain": [
       "#<SVG-STR {100386B963}>"
      ]
     },
     "execution_count": 1,
     "metadata": {},
     "output_type": "execute_result"
    }
   ],
   "source": [
    "(svg \"<svg height=\\\"400\\\" width=\\\"450\\\">\n",
    "<path id=\\\"lineAB\\\" d=\\\"M 100 350 l 150 -300\\\" stroke=\\\"red\\\" stroke-width=\\\"3\\\" fill=\\\"none\\\" />\n",
    "  <path id=\\\"lineBC\\\" d=\\\"M 250 50 l 150 300\\\" stroke=\\\"red\\\" stroke-width=\\\"3\\\" fill=\\\"none\\\" />\n",
    "  <path d=\\\"M 175 200 l 150 0\\\" stroke=\\\"green\\\" stroke-width=\\\"3\\\" fill=\\\"none\\\" />\n",
    "  <path d=\\\"M 100 350 q 150 -300 300 0\\\" stroke=\\\"blue\\\" stroke-width=\\\"5\\\" fill=\\\"none\\\" />\n",
    "  <!-- Mark relevant points -->\n",
    "  <g stroke=\\\"black\\\" stroke-width=\\\"3\\\" fill=\\\"black\\\">\n",
    "    <circle id=\\\"pointA\\\" cx=\\\"100\\\" cy=\\\"350\\\" r=\\\"3\\\" />\n",
    "    <circle id=\\\"pointB\\\" cx=\\\"250\\\" cy=\\\"50\\\" r=\\\"3\\\" />\n",
    "    <circle id=\\\"pointC\\\" cx=\\\"400\\\" cy=\\\"350\\\" r=\\\"3\\\" />\n",
    "  </g>\n",
    "  <!-- Label the points -->\n",
    "  <g font-size=\\\"30\\\" font=\\\"sans-serif\\\" fill=\\\"black\\\" stroke=\\\"none\\\" text-anchor=\\\"middle\\\">\n",
    "    <text x=\\\"100\\\" y=\\\"350\\\" dx=\\\"-30\\\">A</text>\n",
    "    <text x=\\\"250\\\" y=\\\"50\\\" dy=\\\"-10\\\">B</text>\n",
    "    <text x=\\\"400\\\" y=\\\"350\\\" dx=\\\"30\\\">C</text>\n",
    "  </g>\n",
    "</svg>\")"
   ]
  },
  {
   "cell_type": "markdown",
   "metadata": {},
   "source": [
    "Of course, it is quite cumbersome to write full pictures in a string encoding an xml document ! Pictures can be obtained more interesting in a programmatic manner, either building a string or relying on a third-party library.  This could be an XML library but there is also a nifty `cl-svg` library that we might use."
   ]
  },
  {
   "cell_type": "code",
   "execution_count": 23,
   "metadata": {
    "collapsed": false
   },
   "outputs": [
    {
     "data": {
      "text/plain": [
       "(\"cl-svg\")"
      ]
     },
     "execution_count": 23,
     "metadata": {},
     "output_type": "execute_result"
    }
   ],
   "source": [
    "(ql:quickload \"cl-svg\")"
   ]
  },
  {
   "cell_type": "code",
   "execution_count": 24,
   "metadata": {
    "collapsed": false
   },
   "outputs": [
    {
     "data": {
      "text/plain": [
       "*SCENE*"
      ]
     },
     "execution_count": 24,
     "metadata": {},
     "output_type": "execute_result"
    }
   ],
   "source": [
    "(defparameter *scene* \n",
    "    (let* ((scene (svg:make-svg-toplevel 'svg:svg-1.1-toplevel :height 200 :width 200))\n",
    "           (lg1 (svg:make-linear-gradient scene (:id :generate\n",
    "                                         :x1 \"0%\" :y1 \"0%\" :x2 \"100%\" :y2 \"100%\")\n",
    "                (svg:stop :color \"green\" :offset \"0%\")\n",
    "                (svg:stop :color \"blue\" :offset \"50%\")\n",
    "                (svg:stop :color \"red\" :offset \"100%\"))))\n",
    "     (svg:title scene \"SVG test: gradients\")\n",
    "     (svg:draw scene (:rect :x 10 :y 10 :height 200 :width 200)\n",
    "               :fill (svg:xlink-href lg1))\n",
    "        scene))"
   ]
  },
  {
   "cell_type": "code",
   "execution_count": 25,
   "metadata": {
    "collapsed": false
   },
   "outputs": [
    {
     "data": {
      "image/svg+xml": [
       "<?xml version=\"1.0\" standalone=\"no\"?>\n",
       "<!DOCTYPE svg PUBLIC \"-//W3C//DTD SVG 1.1//EN\" \n",
       "  \"http://www.w3.org/Graphics/SVG/1.1/DTD/svg11.dtd\">\n",
       "<svg width=\"200\" height=\"200\" version=\"1.1\" id=\"toplevel\"\n",
       "    xmlns=\"http://www.w3.org/2000/svg\"\n",
       "    xmlns:xlink=\"http://www.w3.org/1999/xlink\">\n",
       "  <defs>\n",
       "    <linearGradient id=\"linearGradient1001\" x1=\"0%\" y1=\"0%\" x2=\"100%\" y2=\"100%\">\n",
       "      <stop stop-color=\"green\" stop-opacity=\"1.00\" offset=\"0%\"/>\n",
       "      <stop stop-color=\"blue\" stop-opacity=\"1.00\" offset=\"50%\"/>\n",
       "      <stop stop-color=\"red\" stop-opacity=\"1.00\" offset=\"100%\"/>\n",
       "    </linearGradient>\n",
       "  </defs>\n",
       "  <title>\n",
       "    SVG test: gradients\n",
       "  </title>\n",
       "  <rect x=\"10\" y=\"10\" height=\"200\" width=\"200\" fill=\"url(#linearGradient1001)\"/>\n",
       "</svg>\n"
      ],
      "text/plain": [
       "#<SVG-STR {1005AD2943}>"
      ]
     },
     "execution_count": 25,
     "metadata": {},
     "output_type": "execute_result"
    }
   ],
   "source": [
    "(svg (with-output-to-string (out)\n",
    "         (svg:stream-out out *scene*))))"
   ]
  },
  {
   "cell_type": "markdown",
   "metadata": {},
   "source": [
    "Finally, it is perhaps easier to load a SVG picture directly from a file."
   ]
  },
  {
   "cell_type": "code",
   "execution_count": 26,
   "metadata": {
    "collapsed": false
   },
   "outputs": [
    {
     "data": {
      "image/svg+xml": [
       "<?xml version=\"1.0\" encoding=\"UTF-8\" standalone=\"no\"?>\n",
       "<!-- Created with Inkscape (http://www.inkscape.org/) -->\n",
       "\n",
       "<svg\n",
       "   xmlns:dc=\"http://purl.org/dc/elements/1.1/\"\n",
       "   xmlns:cc=\"http://creativecommons.org/ns#\"\n",
       "   xmlns:rdf=\"http://www.w3.org/1999/02/22-rdf-syntax-ns#\"\n",
       "   xmlns:svg=\"http://www.w3.org/2000/svg\"\n",
       "   xmlns=\"http://www.w3.org/2000/svg\"\n",
       "   xmlns:xlink=\"http://www.w3.org/1999/xlink\"\n",
       "   xmlns:sodipodi=\"http://sodipodi.sourceforge.net/DTD/sodipodi-0.dtd\"\n",
       "   xmlns:inkscape=\"http://www.inkscape.org/namespaces/inkscape\"\n",
       "   id=\"svg9986\"\n",
       "   sodipodi:docname=\"fishbowl-empty.svg\"\n",
       "   viewBox=\"0 0 447.12 404.88\"\n",
       "   version=\"1.1\"\n",
       "   inkscape:version=\"0.48.4 r9939\"\n",
       "   width=\"128px\"\n",
       "   height=\"128px\">\n",
       "  <defs\n",
       "     id=\"defs9988\">\n",
       "    <radialGradient\n",
       "       id=\"radialGradient10612\"\n",
       "       fx=\"404.47\"\n",
       "       fy=\"535.61\"\n",
       "       gradientUnits=\"userSpaceOnUse\"\n",
       "       cy=\"464.16\"\n",
       "       cx=\"403.1\"\n",
       "       gradientTransform=\"matrix(1 0 0 .16829 0 386.05)\"\n",
       "       r=\"106.33\"\n",
       "       inkscape:collect=\"always\">\n",
       "      <stop\n",
       "         id=\"stop10559\"\n",
       "         style=\"stop-color:#9696ff\"\n",
       "         offset=\"0\" />\n",
       "      <stop\n",
       "         id=\"stop10561\"\n",
       "         style=\"stop-color:#9696ff;stop-opacity:0\"\n",
       "         offset=\"1\" />\n",
       "    </radialGradient>\n",
       "    <linearGradient\n",
       "       id=\"linearGradient10632\"\n",
       "       y2=\"237.97\"\n",
       "       gradientUnits=\"userSpaceOnUse\"\n",
       "       x2=\"160.53\"\n",
       "       y1=\"260.5\"\n",
       "       x1=\"30.976\"\n",
       "       inkscape:collect=\"always\">\n",
       "      <stop\n",
       "         id=\"stop10628\"\n",
       "         style=\"stop-color:#ebe9ff\"\n",
       "         offset=\"0\" />\n",
       "      <stop\n",
       "         id=\"stop10630\"\n",
       "         style=\"stop-color:#ebe9ff;stop-opacity:0\"\n",
       "         offset=\"1\" />\n",
       "    </linearGradient>\n",
       "    <linearGradient\n",
       "       inkscape:collect=\"always\"\n",
       "       x1=\"324.08\"\n",
       "       y1=\"64.653\"\n",
       "       gradientTransform=\"matrix(0.26858,0,0,0.26858,-56.254,82.436)\"\n",
       "       x2=\"311.47\"\n",
       "       gradientUnits=\"userSpaceOnUse\"\n",
       "       y2=\"111.72\"\n",
       "       id=\"linearGradient3953\">\n",
       "      <stop\n",
       "         offset=\"0\"\n",
       "         style=\"stop-color:#ffffff\"\n",
       "         id=\"stop4034\" />\n",
       "      <stop\n",
       "         offset=\"1\"\n",
       "         style=\"stop-color:#ffffff;stop-opacity:0\"\n",
       "         id=\"stop4036\" />\n",
       "    </linearGradient>\n",
       "    <linearGradient\n",
       "       inkscape:collect=\"always\"\n",
       "       x1=\"340.11\"\n",
       "       y1=\"193.29\"\n",
       "       gradientTransform=\"matrix(0.14592,0,0,0.11771,12.444,103.56)\"\n",
       "       x2=\"340.11\"\n",
       "       gradientUnits=\"userSpaceOnUse\"\n",
       "       xlink:href=\"#linearGradient3984\"\n",
       "       y2=\"81.848\"\n",
       "       id=\"linearGradient3951\" />\n",
       "    <linearGradient\n",
       "       inkscape:collect=\"always\"\n",
       "       x1=\"400.93\"\n",
       "       y1=\"81.444\"\n",
       "       gradientTransform=\"matrix(0.28889,0,0,0.30378,-65.593,77.981)\"\n",
       "       x2=\"400.93\"\n",
       "       gradientUnits=\"userSpaceOnUse\"\n",
       "       xlink:href=\"#linearGradient3984\"\n",
       "       y2=\"128.09\"\n",
       "       id=\"linearGradient3949\" />\n",
       "    <linearGradient\n",
       "       inkscape:collect=\"always\"\n",
       "       x1=\"336.92\"\n",
       "       y1=\"78.875\"\n",
       "       gradientTransform=\"matrix(0.42536,0,0,0.22889,-96.309,92.036)\"\n",
       "       x2=\"339.85\"\n",
       "       gradientUnits=\"userSpaceOnUse\"\n",
       "       xlink:href=\"#linearGradient3970\"\n",
       "       y2=\"140.14\"\n",
       "       id=\"linearGradient3947\" />\n",
       "    <linearGradient\n",
       "       inkscape:collect=\"always\"\n",
       "       x1=\"387.25\"\n",
       "       y1=\"98.949\"\n",
       "       gradientTransform=\"matrix(0.26858,0,0,0.26858,-57.705,82.242)\"\n",
       "       x2=\"374.12\"\n",
       "       gradientUnits=\"userSpaceOnUse\"\n",
       "       xlink:href=\"#linearGradient3917\"\n",
       "       y2=\"68.866\"\n",
       "       id=\"linearGradient3945\" />\n",
       "    <linearGradient\n",
       "       inkscape:collect=\"always\"\n",
       "       x1=\"420.07\"\n",
       "       y1=\"155.83\"\n",
       "       gradientTransform=\"matrix(0.26858,0,0,0.26858,-57.852,81.118)\"\n",
       "       x2=\"391.63\"\n",
       "       gradientUnits=\"userSpaceOnUse\"\n",
       "       xlink:href=\"#linearGradient3917\"\n",
       "       y2=\"174.43\"\n",
       "       id=\"linearGradient3943\" />\n",
       "    <radialGradient\n",
       "       inkscape:collect=\"always\"\n",
       "       r=\"15.965\"\n",
       "       gradientTransform=\"matrix(0.52302,-0.17452,0.07329,0.21965,-160.75,151.56)\"\n",
       "       cx=\"357.43\"\n",
       "       cy=\"159.97\"\n",
       "       gradientUnits=\"userSpaceOnUse\"\n",
       "       xlink:href=\"#linearGradient3917\"\n",
       "       id=\"radialGradient3941\" />\n",
       "    <radialGradient\n",
       "       inkscape:collect=\"always\"\n",
       "       r=\"35.443\"\n",
       "       gradientTransform=\"matrix(0.54185,-0.013525,0.0087772,0.35165,-138.2,75.9)\"\n",
       "       cx=\"290.79\"\n",
       "       cy=\"123.31\"\n",
       "       gradientUnits=\"userSpaceOnUse\"\n",
       "       xlink:href=\"#linearGradient3970\"\n",
       "       id=\"radialGradient3939\" />\n",
       "    <filter\n",
       "       inkscape:collect=\"always\"\n",
       "       id=\"filter4475\">\n",
       "      <feGaussianBlur\n",
       "         inkscape:collect=\"always\"\n",
       "         stdDeviation=\"0.86939242\"\n",
       "         id=\"feGaussianBlur4477\" />\n",
       "    </filter>\n",
       "    <linearGradient\n",
       "       id=\"linearGradient3970\">\n",
       "      <stop\n",
       "         offset=\"0\"\n",
       "         style=\"stop-color:#ff7300\"\n",
       "         id=\"stop3972\" />\n",
       "      <stop\n",
       "         offset=\".64833\"\n",
       "         style=\"stop-color:#ffdb00\"\n",
       "         id=\"stop4021\" />\n",
       "      <stop\n",
       "         offset=\"1\"\n",
       "         style=\"stop-color:#ff6582\"\n",
       "         id=\"stop3974\" />\n",
       "    </linearGradient>\n",
       "    <linearGradient\n",
       "       inkscape:collect=\"always\"\n",
       "       id=\"linearGradient3917\">\n",
       "      <stop\n",
       "         offset=\"0\"\n",
       "         style=\"stop-color:#ffc900\"\n",
       "         id=\"stop3919\" />\n",
       "      <stop\n",
       "         offset=\"1\"\n",
       "         style=\"stop-color:#ffff00\"\n",
       "         id=\"stop3921\" />\n",
       "    </linearGradient>\n",
       "    <linearGradient\n",
       "       inkscape:collect=\"always\"\n",
       "       id=\"linearGradient3984\">\n",
       "      <stop\n",
       "         offset=\"0\"\n",
       "         style=\"stop-color:#ffffff\"\n",
       "         id=\"stop3986\" />\n",
       "      <stop\n",
       "         offset=\"1\"\n",
       "         style=\"stop-color:#ffffff;stop-opacity:0\"\n",
       "         id=\"stop3988\" />\n",
       "    </linearGradient>\n",
       "    <filter\n",
       "       id=\"filter3681\"\n",
       "       inkscape:label=\"filtre2\" />\n",
       "    <filter\n",
       "       id=\"filter4047\"\n",
       "       inkscape:label=\"Ripple\"\n",
       "       inkscape:menu=\"Distort\"\n",
       "       inkscape:menu-tooltip=\"Horizontal rippling of edges\"\n",
       "       color-interpolation-filters=\"sRGB\">\n",
       "      <feTurbulence\n",
       "         id=\"feTurbulence4049\"\n",
       "         numOctaves=\"1\"\n",
       "         baseFrequency=\"0.002 0.107\" />\n",
       "      <feColorMatrix\n",
       "         id=\"feColorMatrix4051\"\n",
       "         values=\"2 0 0 0 0 0 0 0 0 0 0 0 0 0 0 0 0 0 0.5 0.5\"\n",
       "         result=\"result91\" />\n",
       "      <feDisplacementMap\n",
       "         id=\"feDisplacementMap4053\"\n",
       "         in2=\"result91\"\n",
       "         yChannelSelector=\"A\"\n",
       "         xChannelSelector=\"R\"\n",
       "         scale=\"14.3\"\n",
       "         in=\"SourceGraphic\" />\n",
       "    </filter>\n",
       "    <filter\n",
       "       id=\"filter4153\"\n",
       "       inkscape:label=\"Evanescent\"\n",
       "       inkscape:menu=\"Blurs\"\n",
       "       inkscape:menu-tooltip=\"Blur the contents of objects, preserving the outline and adding progressive transparency at edges\"\n",
       "       color-interpolation-filters=\"sRGB\">\n",
       "      <feGaussianBlur\n",
       "         id=\"feGaussianBlur4155\"\n",
       "         result=\"result6\"\n",
       "         stdDeviation=\"3\"\n",
       "         in=\"SourceGraphic\" />\n",
       "      <feColorMatrix\n",
       "         id=\"feColorMatrix4157\"\n",
       "         values=\"1 0 0 0 0 0 1 0 0 0 0 0 1 0 0 0 0 0 1 0 \"\n",
       "         result=\"result7\"\n",
       "         in=\"SourceGraphic\" />\n",
       "      <feComposite\n",
       "         id=\"feComposite4159\"\n",
       "         in2=\"result7\"\n",
       "         operator=\"in\"\n",
       "         in=\"result6\" />\n",
       "    </filter>\n",
       "    <filter\n",
       "       id=\"filter4161\"\n",
       "       inkscape:label=\"Evanescent\"\n",
       "       inkscape:menu=\"Blurs\"\n",
       "       inkscape:menu-tooltip=\"Blur the contents of objects, preserving the outline and adding progressive transparency at edges\"\n",
       "       color-interpolation-filters=\"sRGB\">\n",
       "      <feGaussianBlur\n",
       "         id=\"feGaussianBlur4163\"\n",
       "         result=\"result6\"\n",
       "         stdDeviation=\"3\"\n",
       "         in=\"SourceGraphic\" />\n",
       "      <feColorMatrix\n",
       "         id=\"feColorMatrix4165\"\n",
       "         values=\"1 0 0 0 0 0 1 0 0 0 0 0 1 0 0 0 0 0 1 0 \"\n",
       "         result=\"result7\"\n",
       "         in=\"SourceGraphic\" />\n",
       "      <feComposite\n",
       "         id=\"feComposite4167\"\n",
       "         in2=\"result7\"\n",
       "         operator=\"in\"\n",
       "         in=\"result6\" />\n",
       "    </filter>\n",
       "  </defs>\n",
       "  <sodipodi:namedview\n",
       "     id=\"base\"\n",
       "     bordercolor=\"#666666\"\n",
       "     inkscape:pageshadow=\"2\"\n",
       "     inkscape:window-y=\"73\"\n",
       "     pagecolor=\"#ffffff\"\n",
       "     inkscape:window-height=\"1222\"\n",
       "     inkscape:window-maximized=\"0\"\n",
       "     inkscape:zoom=\"1.0653401\"\n",
       "     inkscape:window-x=\"290\"\n",
       "     showgrid=\"false\"\n",
       "     borderopacity=\"1.0\"\n",
       "     inkscape:current-layer=\"layer1\"\n",
       "     inkscape:cx=\"112.28052\"\n",
       "     inkscape:cy=\"258.76014\"\n",
       "     inkscape:window-width=\"1325\"\n",
       "     inkscape:pageopacity=\"0.0\"\n",
       "     inkscape:document-units=\"px\" />\n",
       "  <g\n",
       "     id=\"layer1\"\n",
       "     inkscape:label=\"Layer 1\"\n",
       "     inkscape:groupmode=\"layer\"\n",
       "     transform=\"translate(-200.31 -113.69)\">\n",
       "    <g\n",
       "       id=\"g10634\">\n",
       "      <path\n",
       "         id=\"path9996\"\n",
       "         sodipodi:nodetypes=\"csssc\"\n",
       "         style=\"color:#000000;fill:#e3dfff\"\n",
       "         d=\"m645.93 303.46c0 101.47-99.418 183.73-222.06 183.73s-218.07-82.353-222.06-183.73c-2.8469-72.489 43.208-69.206 228.7-66.765 174.79 2.3004 222.06-3.6545 215.41 66.765z\" />\n",
       "      <path\n",
       "         id=\"path9996-4\"\n",
       "         sodipodi:nodetypes=\"csccscsssccc\"\n",
       "         style=\"stroke-linejoin:round;color:#000000;stroke:#000000;stroke-width:3;fill:none\"\n",
       "         d=\"m520.73 138.06c17.27-2.4132 27.618-5.4519 27.618-8.7812m-0.0658 0.14363c1.0534-6.7875-56.495-14.237-126.28-14.237-69.782 0-126.34 6.3008-126.34 14.094m0.7146 23.54c-41.992 20.823-94.569 78.204-94.569 150.65 0 101.47 99.42 183.72 222.06 183.72s222.06-82.246 222.06-183.72c0-72.746-48.645-134.31-97.205-152.8m-252.98-21.68c-0.32919 4.2954 10.257 6.9759 29.203 9.4435\" />\n",
       "      <path\n",
       "         id=\"path10531\"\n",
       "         sodipodi:nodetypes=\"csscc\"\n",
       "         style=\"stroke-linejoin:round;color:#000000;stroke:#ccdbf4;stroke-linecap:round;stroke-width:3;fill:none\"\n",
       "         d=\"m639.59 275.23c-6.7619 21.197-84.993 32.617-207.14 31.912-144.12-0.83207-214.49-18.496-220.49-33.529-6.0338-15.138 12.748-43.922 217.34-36.465 173.51-0.1364 209.85 12.519 210.28 38.082z\" />\n",
       "      <path\n",
       "         id=\"path10555\"\n",
       "         sodipodi:rx=\"104.88892\"\n",
       "         sodipodi:ry=\"16.453163\"\n",
       "         style=\"color:#000000;fill:url(#radialGradient10612)\"\n",
       "         sodipodi:type=\"arc\"\n",
       "         d=\"m 507.99143,464.16159 c 0,9.08683 -46.96037,16.45316 -104.88892,16.45316 -57.92855,0 -104.88893,-7.36633 -104.88893,-16.45316 0,-9.08683 46.96038,-16.45316 104.88893,-16.45316 57.92855,0 104.88892,7.36633 104.88892,16.45316 z\"\n",
       "         transform=\"matrix(.91677 0 0 1.4583 55.667 -213.43)\"\n",
       "         sodipodi:cy=\"464.16159\"\n",
       "         sodipodi:cx=\"403.10251\" />\n",
       "      <path\n",
       "         id=\"path10565\"\n",
       "         sodipodi:nodetypes=\"cssc\"\n",
       "         style=\"stroke:#000000;stroke-width:3;fill:none\"\n",
       "         d=\"m315 463.94s-25.159 20.969-17.367 26.953c44.596 34.25 211.58 35.297 245.11 0.68555 6.5003-6.7102-15.558-25.582-15.558-25.582\" />\n",
       "      <path\n",
       "         id=\"path10567\"\n",
       "         sodipodi:nodetypes=\"cc\"\n",
       "         style=\"stroke:#000000;stroke-width:1px;fill:none\"\n",
       "         d=\"m305.03 485.58c17.421 16.13 99.895 28.48 134.04 24.969\" />\n",
       "      <path\n",
       "         id=\"path10572\"\n",
       "         sodipodi:nodetypes=\"cc\"\n",
       "         style=\"stroke:#000000;stroke-width:3;fill:none\"\n",
       "         d=\"m324.56 138.39c65.109 6.5191 131.97 5.4138 197.08-0.44966\" />\n",
       "      <path\n",
       "         id=\"path10574\"\n",
       "         sodipodi:nodetypes=\"cc\"\n",
       "         style=\"stroke:#000000;stroke-width:3;fill:none\"\n",
       "         d=\"m547.83 130.63c-3.8438 6.5287-4.9491 17.366 1.6145 20.376\" />\n",
       "      <path\n",
       "         id=\"path10574-2\"\n",
       "         sodipodi:nodetypes=\"cc\"\n",
       "         style=\"stroke:#000000;stroke-width:3;fill:none\"\n",
       "         d=\"m296.21 130.69c3.8438 6.5287 4.8174 19.777-0.75863 22.643\" />\n",
       "      <path\n",
       "         id=\"path10598\"\n",
       "         sodipodi:nodetypes=\"cc\"\n",
       "         style=\"stroke:#000000;stroke-width:1px;fill:none\"\n",
       "         d=\"m305.09 151.67c74.185 11.006 133.53 5.8226 195.33 3.3187\" />\n",
       "      <path\n",
       "         id=\"path10624\"\n",
       "         d=\"m16.896 218.09c0.1075 33.857 30.184 63.629 45.995 81.664 9.9592 11.36 44.695 12.17 37.547 1.8773-20.417-29.399-42.159-57.609-46.933-80.725-2.4755-11.986-36.647-15.055-36.608-2.816z\"\n",
       "         sodipodi:nodetypes=\"cssss\"\n",
       "         style=\"fill:url(#linearGradient10632)\"\n",
       "         transform=\"translate(200.31 113.69)\" />\n",
       "    </g>\n",
       "    <path\n",
       "       style=\"fill:#e3dfff;fill-opacity:1\"\n",
       "       d=\"m 161.81566,249.561 c -0.35928,-1.29067 -0.659,-11.53387 -0.66604,-22.76268 l -0.0128,-20.41602 31.21069,0.0936 c 17.16588,0.0515 32.26669,0.43176 33.55736,0.8451 2.03485,0.65167 1.04742,1.43514 -1.27881,1.01467 -1.07601,-0.1945 -3.36855,2.99367 -2.80656,3.90298 0.24282,0.3929 -0.20899,0.71435 -1.00402,0.71435 -0.79504,0 -1.71246,1.06357 -2.03871,2.36348 -0.37449,1.49206 -1.15978,2.27076 -2.12989,2.11201 -1.19741,-0.19596 -1.48421,0.42207 -1.299,2.79919 0.25578,3.28295 -0.71234,3.89831 -2.58436,1.64266 -0.64269,-0.7744 -1.53921,-1.408 -1.99227,-1.408 -1.05416,0 -0.64577,2.12945 0.58427,3.04647 1.49129,1.11179 -4.47421,0.22788 -6.74363,-0.9992 -2.87342,-1.55367 -3.11237,-1.43992 -3.11237,1.48161 0,2.41929 -2.64827,5.2268 -5.16268,5.47311 -2.29075,0.2244 -5.89442,2.24623 -6.41319,3.59812 -0.31234,0.81395 -1.34147,1.4799 -2.28695,1.4799 -0.94549,0 -2.22594,0.50688 -2.84546,1.12641 -0.87609,0.87608 -1.1264,0.87608 -1.1264,0 0,-0.61953 -0.68533,-1.12641 -1.52294,-1.12641 -1.19015,0 -1.28747,0.28373 -0.44538,1.29839 0.83434,1.00531 0.73523,1.42974 -0.4391,1.88037 -0.83417,0.3201 -2.00655,0.28835 -2.6053,-0.0705 -0.63998,-0.38364 -0.5801,-0.025 0.14532,0.87016 1.05007,1.29582 0.94227,1.67881 -0.7234,2.57026 -1.07654,0.57614 -2.37101,0.79187 -2.87661,0.47939 -0.5056,-0.31248 -0.91927,-0.13166 -0.91927,0.40182 0,1.13322 -5.15944,3.99385 -5.88846,3.26483 -0.27196,-0.27197 -0.43112,0.27288 -0.35368,1.21077 0.0989,1.1979 -0.60996,1.79195 -2.38264,1.99667 -1.45163,0.16765 -2.66382,0.96503 -2.85396,1.87734 -0.24152,1.15885 -0.50642,0.954 -0.98374,-0.76077 z m 8.46197,-7.2188 c -0.87274,-0.87273 -1.90142,-1.27217 -2.28596,-0.88763 -0.38454,0.38455 -0.0778,1.09213 0.68165,1.57243 2.28525,1.44523 3.30084,1.01173 1.60431,-0.6848 l 0,0 z m 18.72174,-11.73055 c -0.29965,-0.7488 -0.52207,-0.52638 -0.56711,0.56712 -0.0408,0.98951 0.18109,1.54391 0.493,1.232 0.31191,-0.31191 0.34526,-1.12151 0.0741,-1.79912 l 0,0 z m 4.05212,-2.64 c 0,-0.51626 -0.4224,-0.93866 -0.93867,-0.93866 -0.51627,0 -0.93867,0.4224 -0.93867,0.93866 0,0.51627 0.4224,0.93867 0.93867,0.93867 0.51627,0 0.93867,-0.4224 0.93867,-0.93867 z m 15.27121,-7.18638 c -0.63551,-0.25712 -1.90271,-0.27277 -2.816,-0.0348 -0.9133,0.23799 -0.39334,0.44836 1.15547,0.46749 1.5488,0.0191 2.29604,-0.17559 1.66053,-0.43272 l 0,0 z\"\n",
       "       id=\"path3090\"\n",
       "       inkscape:connector-curvature=\"0\"\n",
       "       transform=\"translate(200.31,113.69)\" />\n",
       "    <path\n",
       "       style=\"fill:#e3dfff;fill-opacity:1\"\n",
       "       d=\"m 161.1368,288.04637 c 0,-11.27652 0.20766,-13.14135 1.4634,-13.14135 0.80487,0 1.18488,0.45065 0.84447,1.00145 -0.34041,0.55079 -0.0485,0.92315 0.6486,0.82745 2.78209,-0.3819 3.6142,0.1461 3.6142,2.29335 0,2.48184 1.08156,2.93737 9.13892,3.84918 4.88885,0.55325 12.51245,3.18562 9.42922,3.25584 -1.04168,0.0237 -1.42179,0.53556 -1.07291,1.44474 0.33041,0.86102 1.68642,1.38237 3.49055,1.34203 2.43695,-0.0545 2.62362,-0.1958 1.0729,-0.81214 -1.79369,-0.71293 -1.79824,-0.76226 -0.10203,-1.10736 0.97642,-0.19866 8.69919,-0.23577 17.16171,-0.0825 13.88126,0.25147 15.36042,0.43511 15.12071,1.87734 -0.20216,1.21636 0.34941,1.55328 2.30675,1.40905 1.72273,-0.12695 2.89635,0.41565 3.55303,1.64266 0.53932,1.00773 1.77097,1.83223 2.73701,1.83223 1.2943,0 1.62726,0.49394 1.2655,1.87733 -0.43132,1.64938 -0.0288,1.87734 3.31488,1.87734 3.22717,0 3.7843,0.28543 3.66439,1.87733 -0.13896,1.84474 -0.81433,1.87734 -38.89636,1.87734 l -38.75494,0 0,-13.14134 z m 39.32755,1.01816 c 0.89937,-0.56947 0.23648,-0.83043 -2.10939,-0.83043 -1.8815,0 -3.18595,0.38016 -2.89879,0.8448 0.66318,1.07305 3.30273,1.06548 5.00818,-0.0144 l 0,0 z\"\n",
       "       id=\"path3092\"\n",
       "       inkscape:connector-curvature=\"0\"\n",
       "       transform=\"translate(200.31,113.69)\" />\n",
       "    <path\n",
       "       style=\"fill:#e3dfff;fill-opacity:1\"\n",
       "       d=\"m 263.45154,300.22412 c 0,-0.50256 0.4224,-0.91375 0.93867,-0.91375 1.71789,0 0.96822,-3.62752 -1.04043,-5.03443 -1.0885,-0.76241 -1.69717,-1.84236 -1.3526,-2.39989 0.56077,-0.90734 -0.61322,-1.42828 -2.53497,-1.12484 -0.3872,0.0611 -0.704,-0.70427 -0.704,-1.70089 0,-1.13286 -0.79163,-1.96453 -2.11201,-2.21884 -1.80656,-0.34796 -1.73779,-0.42528 0.47552,-0.53462 3.8689,-0.19113 21.66721,2.63141 22.62356,3.58776 0.45707,0.45707 1.38172,0.61972 2.05478,0.36145 0.67307,-0.25828 1.935,0.6159 2.8043,1.94262 0.8693,1.32673 1.98518,2.16215 2.47972,1.85651 0.49455,-0.30565 1.119,0.2849 1.38768,1.31232 0.46438,1.77578 1.21463,1.85809 15.19016,1.66654 9.74861,-0.13363 15.65039,-0.62023 17.51767,-1.44434 1.5488,-0.68356 3.872,-1.2854 5.16267,-1.33742 1.50038,-0.0605 2.5317,-0.77162 2.85976,-1.97193 0.42362,-1.54994 1.30991,-1.87734 5.08209,-1.87734 2.81956,0 4.71965,-0.44926 4.96246,-1.17333 0.21641,-0.64533 -0.16973,-1.1798 -0.85808,-1.18771 -1.03527,-0.0119 -1.03696,-0.15044 -0.01,-0.80172 0.683,-0.43304 2.67955,-0.62891 4.43677,-0.43526 2.46349,0.27147 3.07787,0.0469 2.68353,-0.98067 -0.72102,-1.87897 0.6695,-2.47653 6.04472,-2.59763 3.8185,-0.086 4.76923,-0.4462 5.16414,-1.95634 0.26621,-1.018 0.88395,-1.60373 1.37275,-1.30164 0.53368,0.32983 0.84017,-2.35124 0.76718,-6.71089 -0.0668,-3.99309 -0.49672,-7.11848 -0.95527,-6.94532 -0.87287,0.32962 -2.41254,-1.58722 -2.43724,-3.03429 -0.0184,-1.07663 20.92707,-0.0475 25.32964,1.2446 3.59491,1.05502 5.30668,0.96818 4.90107,-0.24865 -0.14389,-0.43166 0.57239,-1.00293 1.59173,-1.26949 1.34001,-0.35042 1.93246,-1.43084 2.13895,-3.9007 0.19776,-2.36551 0.79076,-3.51177 1.92826,-3.72734 1.52835,-0.28963 1.64267,1.29486 1.64267,22.767 l 0,23.07829 -64.76805,-0.037 c -41.35019,-0.0236 -64.76805,-0.36741 -64.76805,-0.95079 z m 58.88183,-3.35819 c -0.31192,-0.31191 -1.12152,-0.34526 -1.79912,-0.0741 -0.7488,0.29965 -0.52638,0.52207 0.56711,0.56711 0.98952,0.0408 1.54392,-0.18109 1.23201,-0.49301 l 0,10e-6 z m -54.41221,-7.58717 c -0.89745,-0.23494 -2.58705,-0.24347 -3.75467,-0.0189 -1.16762,0.22452 -0.43335,0.41674 1.63172,0.42716 2.06507,0.0104 3.02039,-0.17328 2.12295,-0.40822 z\"\n",
       "       id=\"path3094\"\n",
       "       inkscape:connector-curvature=\"0\"\n",
       "       transform=\"translate(200.31,113.69)\" />\n",
       "    <path\n",
       "       style=\"fill:#e3dfff;fill-opacity:1\"\n",
       "       d=\"m 348.47864,224.09126 c 0.47821,-0.77376 0.0621,-0.94573 -1.37748,-0.56927 -1.72542,0.45121 -1.96618,0.23535 -1.47247,-1.32018 0.39779,-1.25334 0.18084,-1.80376 -0.66544,-1.68833 -3.54384,0.48337 -5.6909,-0.18692 -6.14358,-1.91794 -0.26849,-1.02673 -0.86553,-1.63356 -1.32675,-1.34851 -0.46122,0.28505 -1.10558,-0.17752 -1.43191,-1.02793 -0.47594,-1.24027 -0.756,-1.29847 -1.41547,-0.29416 -0.63394,0.96543 -1.4346,0.58269 -3.49767,-1.672 -2.12812,-2.32578 -3.01647,-2.73324 -4.34191,-1.99149 -1.45999,0.81706 -1.58969,0.62698 -1.04716,-1.53463 0.34057,-1.35695 0.22332,-2.46718 -0.26056,-2.46718 -0.48387,0 -1.54792,-0.25639 -2.36455,-0.56976 -0.81662,-0.31337 -1.48477,-0.13314 -1.48477,0.4005 0,0.53365 0.7392,1.16344 1.64267,1.39955 0.90347,0.2361 -0.89174,0.4725 -3.98934,0.52534 -6.60467,0.11266 -9.85601,-0.59758 -9.85601,-2.15301 0,-0.84323 10.24038,-1.17783 41.7707,-1.36485 l 41.7707,-0.24776 0,7.10633 c 0,6.48056 -0.16532,7.10633 -1.87733,7.10633 -1.55695,0 -1.87734,-0.62577 -1.87734,-3.66679 0,-3.1618 -0.24979,-3.60147 -1.81374,-3.19249 -1.43805,0.37606 -1.71308,0.0894 -1.32782,-1.38382 0.4058,-1.55178 -0.069,-1.9229 -2.8796,-2.25103 -4.99808,-0.5835 -9.93618,0.20127 -9.93618,1.57906 0,0.66269 -0.6336,1.44802 -1.40801,1.74518 -0.7744,0.29717 -1.408,0.12031 -1.408,-0.39301 0,-0.51332 -1.32871,-0.24621 -2.95269,0.59358 -2.27626,1.1771 -2.65258,1.71693 -1.64267,2.3564 1.25909,0.79726 1.11647,0.95244 -1.11231,1.21025 -0.55788,0.0645 -1.55485,0.85654 -2.21548,1.76001 -0.66063,0.90346 -2.10498,1.64266 -3.20967,1.64266 -1.10469,0 -2.00852,0.44733 -2.00852,0.99407 0,0.54673 0.4772,0.69914 1.06044,0.33867 0.62725,-0.38766 0.89405,-0.1562 0.65312,0.56659 -0.22403,0.67209 -1.22923,1.33501 -2.23378,1.47317 -1.00455,0.13815 -3.44154,0.50182 -5.41553,0.80815 -2.62806,0.40783 -3.40561,0.26011 -2.90389,-0.5517 l 0,0 z m 6.73858,-1.45788 c -0.89745,-0.23495 -2.58705,-0.24347 -3.75467,-0.0189 -1.16762,0.22453 -0.43334,0.41675 1.63173,0.42717 2.06507,0.0104 3.02039,-0.17328 2.12294,-0.40822 l 0,0 z\"\n",
       "       id=\"path3096\"\n",
       "       inkscape:connector-curvature=\"0\"\n",
       "       transform=\"translate(200.31,113.69)\" />\n",
       "    <path\n",
       "       style=\"fill:#e3dfff;fill-opacity:1\"\n",
       "       d=\"\"\n",
       "       id=\"path3098\"\n",
       "       inkscape:connector-curvature=\"0\"\n",
       "       transform=\"translate(200.31,113.69)\" />\n",
       "    <path\n",
       "       style=\"fill:#e3dfff;fill-opacity:1\"\n",
       "       d=\"m 203.54276,225.07337 c -0.1128,-0.18253 -0.56964,-0.33187 -1.01519,-0.33187 -0.99257,0 -1.06879,-0.51867 -0.11296,-0.76863 0.38698,-0.1012 0.5991,-0.34093 0.47677,-0.53885 -0.1212,-0.19611 0.0415,-0.45704 0.36155,-0.57985 0.33469,-0.12843 0.63735,-0.0569 0.71242,0.16828 0.0718,0.21536 0.35807,0.39157 0.63618,0.39157 0.32475,0 0.43359,0.18781 0.30422,0.52495 -0.1108,0.28872 -0.20144,0.73674 -0.20144,0.99561 0,0.53706 -0.85245,0.63892 -1.16155,0.13879 z\"\n",
       "       id=\"path3100\"\n",
       "       inkscape:connector-curvature=\"0\"\n",
       "       transform=\"translate(200.31,113.69)\" />\n",
       "    <path\n",
       "       style=\"fill:#e3dfff;fill-opacity:1\"\n",
       "       d=\"m 204.91358,223.57323 c -0.10648,-0.2775 -0.63561,-0.59294 -1.17583,-0.70098 -0.54023,-0.10805 -1.06176,-0.4037 -1.15896,-0.65701 -0.22956,-0.59821 -0.26094,-0.60479 1.95578,0.41006 1.36414,0.62452 1.77416,0.95141 1.45054,1.15646 -0.64115,0.40623 -0.85132,0.36533 -1.07153,-0.20853 z\"\n",
       "       id=\"path3102\"\n",
       "       inkscape:connector-curvature=\"0\"\n",
       "       transform=\"translate(200.31,113.69)\" />\n",
       "    <path\n",
       "       style=\"fill:#e3dfff;fill-opacity:1\"\n",
       "       d=\"m 202.08728,223.10559 c -0.28532,-0.17633 -0.31926,-0.34736 -0.0963,-0.48517 0.1894,-0.11706 0.44431,-0.0511 0.56647,0.14653 0.30481,0.49319 0.0624,0.66779 -0.47018,0.33864 z\"\n",
       "       id=\"path3104\"\n",
       "       inkscape:connector-curvature=\"0\"\n",
       "       transform=\"translate(200.31,113.69)\" />\n",
       "    <path\n",
       "       style=\"fill:#e3dfff;fill-opacity:1\"\n",
       "       d=\"\"\n",
       "       id=\"path3106\"\n",
       "       inkscape:connector-curvature=\"0\"\n",
       "       transform=\"translate(200.31,113.69)\" />\n",
       "    <path\n",
       "       style=\"fill:#e3dfff;fill-opacity:1\"\n",
       "       d=\"m 230.68925,208.87769 c 0.91167,-0.40765 1.21887,-0.72449 1.10964,-1.14448 -0.088,-0.33821 0.0337,-0.58077 0.29135,-0.58077 0.74889,0 0.71681,1.12899 -0.0495,1.74231 -0.39911,0.31943 -1.15013,0.5731 -1.66892,0.56371 -0.91886,-0.0166 -0.91064,-0.0316 0.31744,-0.58077 z\"\n",
       "       id=\"path3108\"\n",
       "       inkscape:connector-curvature=\"0\"\n",
       "       transform=\"translate(200.31,113.69)\" />\n",
       "    <path\n",
       "       style=\"fill:#e3dfff;fill-opacity:1\"\n",
       "       d=\"m 229.08895,208.79927 c -0.10856,-0.17564 0.0443,-0.31935 0.3396,-0.31935 0.29534,0 0.45435,-0.1337 0.35336,-0.2971 -0.21114,-0.34163 0.64251,-0.75356 0.94167,-0.4544 0.36878,0.36878 0.20154,0.64352 -0.61944,1.01758 -0.51285,0.23367 -0.89142,0.25354 -1.01519,0.0533 z\"\n",
       "       id=\"path3110\"\n",
       "       inkscape:connector-curvature=\"0\"\n",
       "       transform=\"translate(200.31,113.69)\" />\n",
       "    <path\n",
       "       style=\"fill:#e3dfff;fill-opacity:1\"\n",
       "       d=\"m 230.42416,206.82057 c -0.12684,-0.20522 0.40395,-0.31924 1.39085,-0.29879 1.29501,0.0268 1.43951,0.0832 0.7663,0.29879 -1.19024,0.38118 -1.92157,0.38118 -2.15715,0 z\"\n",
       "       id=\"path3112\"\n",
       "       inkscape:connector-curvature=\"0\"\n",
       "       transform=\"translate(200.31,113.69)\" />\n",
       "    <path\n",
       "       style=\"fill:#e3dfff;fill-opacity:1\"\n",
       "       d=\"\"\n",
       "       id=\"path3114\"\n",
       "       inkscape:connector-curvature=\"0\"\n",
       "       transform=\"translate(200.31,113.69)\" />\n",
       "    <path\n",
       "       style=\"fill:#e3dfff;fill-opacity:1\"\n",
       "       d=\"\"\n",
       "       id=\"path3116\"\n",
       "       inkscape:connector-curvature=\"0\"\n",
       "       transform=\"translate(200.31,113.69)\" />\n",
       "    <path\n",
       "       style=\"fill:#e3dfff;fill-opacity:1\"\n",
       "       d=\"\"\n",
       "       id=\"path3118\"\n",
       "       inkscape:connector-curvature=\"0\"\n",
       "       transform=\"translate(200.31,113.69)\" />\n",
       "    <path\n",
       "       style=\"fill:#e3dfff;fill-opacity:1\"\n",
       "       d=\"m 230.34119,206.25994 c 0.31942,-0.0835 0.84212,-0.0835 1.16154,0 0.31942,0.0835 0.0581,0.15177 -0.58077,0.15177 -0.63885,0 -0.90019,-0.0683 -0.58077,-0.15177 z\"\n",
       "       id=\"path3120\"\n",
       "       inkscape:connector-curvature=\"0\"\n",
       "       transform=\"translate(200.31,113.69)\" />\n",
       "    <rect\n",
       "       style=\"fill:#e3dfff;fill-opacity:1\"\n",
       "       id=\"rect3122\"\n",
       "       width=\"10.28794\"\n",
       "       height=\"2.3230832\"\n",
       "       x=\"197.79395\"\n",
       "       y=\"222.6839\"\n",
       "       transform=\"translate(200.31,113.69)\" />\n",
       "    <rect\n",
       "       style=\"fill:#e3dfff;fill-opacity:1\"\n",
       "       id=\"rect3124\"\n",
       "       width=\"24.558308\"\n",
       "       height=\"8.2967262\"\n",
       "       x=\"189.16534\"\n",
       "       y=\"215.71465\"\n",
       "       transform=\"translate(200.31,113.69)\" />\n",
       "    <rect\n",
       "       style=\"fill:#e3dfff;fill-opacity:1\"\n",
       "       id=\"rect3126\"\n",
       "       width=\"16.925322\"\n",
       "       height=\"16.593452\"\n",
       "       x=\"158.96527\"\n",
       "       y=\"227.66194\"\n",
       "       transform=\"translate(200.31,113.69)\" />\n",
       "    <rect\n",
       "       style=\"fill:#e3dfff;fill-opacity:1\"\n",
       "       id=\"rect3128\"\n",
       "       width=\"29.204475\"\n",
       "       height=\"11.615417\"\n",
       "       x=\"134.73883\"\n",
       "       y=\"238.28174\"\n",
       "       transform=\"translate(200.31,113.69)\" />\n",
       "    <g\n",
       "       transform=\"matrix(0.58651431,0,0,0.55438991,376.00616,258.77218)\"\n",
       "       inkscape:label=\"Capa 1\"\n",
       "       id=\"layer1-3\"\n",
       "       style=\"filter:url(#filter4161)\">\n",
       "      <g\n",
       "         transform=\"matrix(-5.9727,0,0,5.9727,1747.7,-1561.1)\"\n",
       "         inkscape:export-filename=\"D:\\2007\\Diseños InkScape\\tarjeta2.png\"\n",
       "         inkscape:export-xdpi=\"150\"\n",
       "         inkscape:export-ydpi=\"150\"\n",
       "         id=\"g3720\">\n",
       "        <g\n",
       "           transform=\"matrix(1.1556,0,0,1.1556,207.76,165.57)\"\n",
       "           style=\"fill:#000000;filter:url(#filter4475)\"\n",
       "           id=\"g3722\">\n",
       "          <path\n",
       "             d=\"m 22.633,104.12 c -1.168,0 -2.224,0.18 -3.164,0.51 5.048,1.1 8.453,5.74 11.415,9.4 0,4.72 -6.469,7.89 -12.808,7.89 -0.147,0 -0.292,-0.01 -0.437,-0.01 1.579,0.84 3.557,1.31 5.876,1.31 6.325,0 12.783,-3.45 12.783,-8.6 -3.379,-4.56 -7.339,-10.5 -13.665,-10.5 z\"\n",
       "             style=\"fill:#000000\"\n",
       "             id=\"path3724\"\n",
       "             inkscape:connector-curvature=\"0\" />\n",
       "          <path\n",
       "             d=\"m 39.202,119.69 c 0.176,0 0.147,1.77 0.147,2.35 0,0.86 -0.844,1.38 -1.322,1.62 -0.623,0.31 -0.861,0.4 -1.175,1.02 -0.102,0.21 2.171,0.05 2.35,0 0.943,-0.23 1.885,-0.36 2.792,-0.58 0.76,-0.19 1.423,-0.84 2.203,-1.03 0.572,-0.14 0.912,-0.8 1.175,-1.32 0.426,-0.85 -1.868,-0.36 -2.791,-0.59 -0.196,-0.05 -0.391,-0.1 -0.587,-0.15 -0.699,-0.17 -1.384,-1.01 -2.057,-1.17 -0.242,-0.06 -0.49,-0.1 -0.735,-0.15 z\"\n",
       "             style=\"fill:#000000;fill-rule:evenodd\"\n",
       "             id=\"path3726\"\n",
       "             inkscape:connector-curvature=\"0\" />\n",
       "          <path\n",
       "             d=\"m 56.882,121.5 c -1.068,-0.26 -0.985,2.02 -1.763,2.79 -0.569,0.57 -0.873,1.32 -1.469,1.91 -1.407,2.98 -7.265,3.55 -10.578,3.97 0.776,-0.91 2.163,-0.81 3.232,-1.03 1.669,-0.57 3.407,-1.26 4.701,-2.5 0.937,-0.93 -0.734,-0.4 -1.175,-0.29 -0.531,0.13 -1.085,0.43 -1.616,0.29 -0.157,-0.03 1.604,-1.11 2.644,-2.49 0.392,-0.53 -1.325,0.73 -1.909,0.44 -0.657,-0.33 0.993,-1.11 1.322,-1.77 0.379,-0.75 0.654,-0.58 1.763,-0.58 h 2.203 c 1.14,0 1.693,-0.26 2.645,-0.74 z\"\n",
       "             style=\"fill:#000000;fill-rule:evenodd\"\n",
       "             sodipodi:nodetypes=\"csccccsssssssc\"\n",
       "             id=\"path3728\"\n",
       "             inkscape:connector-curvature=\"0\" />\n",
       "          <path\n",
       "             d=\"m 58.938,107.06 c -0.346,-0.68 -1.242,-1.45 -2.056,-2.06 -1.138,-0.85 -2.115,-1.66 -3.232,-2.5 -1.753,-1.93 0.102,0.42 0.587,1.76 0.072,0.44 -1.544,-1.25 -2.056,-1.76 -1.331,-1.06 -2.248,-1.69 -3.967,-2.937 -0.84,-0.168 0.939,1.437 1.322,2.207 0.375,0.75 0.588,1.08 0.588,1.76 0,0.9 -1.249,-1.36 -2.057,-1.76 -0.714,-0.36 -1.175,-1.4 -1.175,-0.15 0,1.96 -0.101,1.44 -1.763,1.03 -1.123,-0.28 -2.37,-0.38 -0.734,0.44 0.136,0.07 -1.959,0.15 -2.498,0.15 -0.018,0 -0.981,0.58 -1.469,0.58 -0.628,0 -0.564,0.74 -1.91,0.74 -0.945,0 -0.296,0.88 -1.616,0.88 -1.104,0 -1.028,0.44 -1.762,1.17 -0.959,0.96 -1.277,0.63 -0.588,2.36 0.349,0.87 0.294,1.64 0.294,2.64 0,1.54 -0.743,1.14 0.881,0.73 0.903,-0.22 1.847,-1.25 2.351,-1.76 0.59,-0.59 1.069,-1.21 1.616,-1.76 0.706,-0.71 2.121,-0.62 2.938,-1.03 0.958,-0.48 2.632,-0.03 3.672,-0.29 1.296,-0.33 2.773,-0.15 4.114,-0.15 h 3.525 3.526 c 0.635,0 0.8,-0.03 1.469,-0.29 z\"\n",
       "             style=\"fill:#000000;fill-rule:evenodd\"\n",
       "             sodipodi:nodetypes=\"csccccsssssssssssssssssssssc\"\n",
       "             id=\"path3730\"\n",
       "             inkscape:connector-curvature=\"0\" />\n",
       "          <path\n",
       "             d=\"m 34.779,112.48 c 1.923,-3.59 8.506,-6.48 16.3,-6.94 9.25,-0.55 15.301,4.55 18.092,8.55 0.094,0.14 -3.323,2.05 -3.237,2.18 0.094,0.15 3.69,-1.49 3.775,-1.35 -1.028,4.67 -9.319,7.9 -18.63,7.9 -7.012,0 -13.028,-2.08 -15.572,-5.04\"\n",
       "             style=\"fill:#000000\"\n",
       "             sodipodi:nodetypes=\"ccssscss\"\n",
       "             id=\"path3732\"\n",
       "             inkscape:connector-curvature=\"0\" />\n",
       "          <path\n",
       "             sodipodi:cx=\"371.87283\"\n",
       "             sodipodi:cy=\"198.63071\"\n",
       "             transform=\"matrix(-0.29561,0,0,0.3534,173.86,43.477)\"\n",
       "             d=\"m 378.64119,198.63071 c 0,2.02923 -3.0303,3.67425 -6.76836,3.67425 -3.73806,0 -6.76835,-1.64502 -6.76835,-3.67425 0,-2.02924 3.03029,-3.67425 6.76835,-3.67425 3.73806,0 6.76836,1.64501 6.76836,3.67425 z\"\n",
       "             sodipodi:type=\"arc\"\n",
       "             style=\"fill:#000000\"\n",
       "             sodipodi:ry=\"3.6742506\"\n",
       "             sodipodi:rx=\"6.7683563\"\n",
       "             id=\"path3734\" />\n",
       "          <path\n",
       "             d=\"m 52.104,106.07 c -0.294,0.01 -0.59,0.02 -0.89,0.03 -9.017,0.48 -16.367,3.91 -16.367,7.79 0,0.71 0.253,1.39 0.705,2.03 3.444,-1.44 9.605,-2.4 16.627,-2.4 6.785,0 12.763,0.9 16.266,2.26 0.411,-0.52 0.706,-1.06 0.848,-1.63 -2.347,-3.4 -8.102,-8.24 -17.189,-8.08 z\"\n",
       "             style=\"fill:#000000\"\n",
       "             id=\"path3736\"\n",
       "             inkscape:connector-curvature=\"0\" />\n",
       "          <path\n",
       "             sodipodi:cx=\"371.87283\"\n",
       "             sodipodi:cy=\"198.63071\"\n",
       "             transform=\"matrix(-0.18919,0,0,0.22618,134.39,68.774)\"\n",
       "             d=\"m 378.64119,198.63071 c 0,2.02923 -3.0303,3.67425 -6.76836,3.67425 -3.73806,0 -6.76835,-1.64502 -6.76835,-3.67425 0,-2.02924 3.03029,-3.67425 6.76835,-3.67425 3.73806,0 6.76836,1.64501 6.76836,3.67425 z\"\n",
       "             sodipodi:type=\"arc\"\n",
       "             style=\"fill:#000000\"\n",
       "             sodipodi:ry=\"3.6742506\"\n",
       "             sodipodi:rx=\"6.7683563\"\n",
       "             id=\"path3738\" />\n",
       "          <path\n",
       "             d=\"m 69.398,115.33 c -0.353,2.4 -3.198,4.06 -6.392,4.06 -3.194,0 -5.786,-1.89 -5.786,-4.21 0,-2.33 2.598,-4.39 5.786,-4.67 3.396,-0.31 5.535,2.72 6.392,4.82 z\"\n",
       "             style=\"fill:#000000\"\n",
       "             sodipodi:nodetypes=\"csssc\"\n",
       "             id=\"path3740\"\n",
       "             inkscape:connector-curvature=\"0\" />\n",
       "          <path\n",
       "             d=\"m 22.633,104.31 c -1.168,0 -2.224,0.18 -3.164,0.51 2.42,0.53 4.456,1.88 6.253,3.53 4.876,0.89 8.519,4.4 8.519,8.6 0,1.15 -0.277,2.23 -0.772,3.24 1.732,-1.42 2.829,-3.25 2.829,-5.37 -3.379,-4.57 -7.339,-10.51 -13.665,-10.51 z\"\n",
       "             style=\"fill:#000000\"\n",
       "             id=\"path3742\"\n",
       "             inkscape:connector-curvature=\"0\" />\n",
       "        </g>\n",
       "        <g\n",
       "           transform=\"matrix(1.1556,0,0,1.1556,207.76,163.57)\"\n",
       "           id=\"g3744\">\n",
       "          <path\n",
       "             d=\"m 22.633,104.12 c -1.168,0 -2.224,0.18 -3.164,0.51 5.048,1.1 8.453,5.74 11.415,9.4 0,4.72 -6.469,7.89 -12.808,7.89 -0.147,0 -0.292,-0.01 -0.437,-0.01 1.579,0.84 3.557,1.31 5.876,1.31 6.325,0 12.783,-3.45 12.783,-8.6 -3.379,-4.56 -7.339,-10.5 -13.665,-10.5 z\"\n",
       "             style=\"fill:url(#radialGradient3939)\"\n",
       "             id=\"path3746\"\n",
       "             inkscape:connector-curvature=\"0\" />\n",
       "          <path\n",
       "             d=\"m 39.202,119.69 c 0.176,0 0.147,1.77 0.147,2.35 0,0.86 -0.844,1.38 -1.322,1.62 -0.623,0.31 -0.861,0.4 -1.175,1.02 -0.102,0.21 2.171,0.05 2.35,0 0.943,-0.23 1.885,-0.36 2.792,-0.58 0.76,-0.19 1.423,-0.84 2.203,-1.03 0.572,-0.14 0.912,-0.8 1.175,-1.32 0.426,-0.85 -1.868,-0.36 -2.791,-0.59 -0.196,-0.05 -0.391,-0.1 -0.587,-0.15 -0.699,-0.17 -1.384,-1.01 -2.057,-1.17 -0.242,-0.06 -0.49,-0.1 -0.735,-0.15 z\"\n",
       "             style=\"fill:url(#radialGradient3941);fill-rule:evenodd\"\n",
       "             id=\"path3748\"\n",
       "             inkscape:connector-curvature=\"0\" />\n",
       "          <path\n",
       "             d=\"m 56.882,121.5 c -1.068,-0.26 -0.985,2.02 -1.763,2.79 -0.569,0.57 -0.873,1.32 -1.469,1.91 -1.407,2.98 -7.265,3.55 -10.578,3.97 0.776,-0.91 2.163,-0.81 3.232,-1.03 1.669,-0.57 3.407,-1.26 4.701,-2.5 0.937,-0.93 -0.734,-0.4 -1.175,-0.29 -0.531,0.13 -1.085,0.43 -1.616,0.29 -0.157,-0.03 1.604,-1.11 2.644,-2.49 0.392,-0.53 -1.325,0.73 -1.909,0.44 -0.657,-0.33 0.993,-1.11 1.322,-1.77 0.379,-0.75 0.654,-0.58 1.763,-0.58 h 2.203 c 1.14,0 1.693,-0.26 2.645,-0.74 z\"\n",
       "             style=\"fill:url(#linearGradient3943);fill-rule:evenodd\"\n",
       "             sodipodi:nodetypes=\"csccccsssssssc\"\n",
       "             id=\"path3750\"\n",
       "             inkscape:connector-curvature=\"0\" />\n",
       "          <path\n",
       "             d=\"m 58.938,107.06 c -0.346,-0.68 -1.242,-1.45 -2.056,-2.06 -1.138,-0.85 -2.115,-1.66 -3.232,-2.5 -1.753,-1.93 0.102,0.42 0.587,1.76 0.072,0.44 -1.544,-1.25 -2.056,-1.76 -1.331,-1.06 -2.248,-1.69 -3.967,-2.937 -0.84,-0.168 0.939,1.437 1.322,2.207 0.375,0.75 0.588,1.08 0.588,1.76 0,0.9 -1.249,-1.36 -2.057,-1.76 -0.714,-0.36 -1.175,-1.4 -1.175,-0.15 0,1.96 -0.101,1.44 -1.763,1.03 -1.123,-0.28 -2.37,-0.38 -0.734,0.44 0.136,0.07 -1.959,0.15 -2.498,0.15 -0.018,0 -0.981,0.58 -1.469,0.58 -0.628,0 -0.564,0.74 -1.91,0.74 -0.945,0 -0.296,0.88 -1.616,0.88 -1.104,0 -1.028,0.44 -1.762,1.17 -0.959,0.96 -1.277,0.63 -0.588,2.36 0.349,0.87 0.294,1.64 0.294,2.64 0,1.54 -0.743,1.14 0.881,0.73 0.903,-0.22 1.847,-1.25 2.351,-1.76 0.59,-0.59 1.069,-1.21 1.616,-1.76 0.706,-0.71 2.121,-0.62 2.938,-1.03 0.958,-0.48 2.632,-0.03 3.672,-0.29 1.296,-0.33 2.773,-0.15 4.114,-0.15 h 3.525 3.526 c 0.635,0 0.8,-0.03 1.469,-0.29 z\"\n",
       "             style=\"fill:url(#linearGradient3945);fill-rule:evenodd\"\n",
       "             sodipodi:nodetypes=\"csccccsssssssssssssssssssssc\"\n",
       "             id=\"path3752\"\n",
       "             inkscape:connector-curvature=\"0\" />\n",
       "          <path\n",
       "             d=\"m 34.779,112.48 c 1.923,-3.59 8.506,-6.48 16.3,-6.94 9.25,-0.55 15.301,4.55 18.092,8.55 0.094,0.14 -3.323,2.05 -3.237,2.18 0.094,0.15 3.69,-1.49 3.775,-1.35 -1.028,4.67 -9.319,7.9 -18.63,7.9 -7.012,0 -13.028,-2.08 -15.572,-5.04\"\n",
       "             style=\"fill:url(#linearGradient3947);stroke:#ffa500;stroke-width:0.28549999;stroke-linecap:round\"\n",
       "             sodipodi:nodetypes=\"ccssscss\"\n",
       "             id=\"path3754\"\n",
       "             inkscape:connector-curvature=\"0\" />\n",
       "          <path\n",
       "             sodipodi:cx=\"371.87283\"\n",
       "             sodipodi:cy=\"198.63071\"\n",
       "             transform=\"matrix(-0.29561,0,0,0.3534,173.86,43.477)\"\n",
       "             d=\"m 378.64119,198.63071 c 0,2.02923 -3.0303,3.67425 -6.76836,3.67425 -3.73806,0 -6.76835,-1.64502 -6.76835,-3.67425 0,-2.02924 3.03029,-3.67425 6.76835,-3.67425 3.73806,0 6.76836,1.64501 6.76836,3.67425 z\"\n",
       "             sodipodi:type=\"arc\"\n",
       "             style=\"fill:#000000\"\n",
       "             sodipodi:ry=\"3.6742506\"\n",
       "             sodipodi:rx=\"6.7683563\"\n",
       "             id=\"path3756\" />\n",
       "          <path\n",
       "             d=\"m 52.104,106.07 c -0.294,0.01 -0.59,0.02 -0.89,0.03 -9.017,0.48 -16.367,3.91 -16.367,7.79 0,0.71 0.253,1.39 0.705,2.03 3.444,-1.44 9.605,-2.4 16.627,-2.4 6.785,0 12.763,0.9 16.266,2.26 0.411,-0.52 0.706,-1.06 0.848,-1.63 -2.347,-3.4 -8.102,-8.24 -17.189,-8.08 z\"\n",
       "             style=\"fill:url(#linearGradient3949)\"\n",
       "             id=\"path3758\"\n",
       "             inkscape:connector-curvature=\"0\" />\n",
       "          <path\n",
       "             sodipodi:cx=\"371.87283\"\n",
       "             sodipodi:cy=\"198.63071\"\n",
       "             transform=\"matrix(-0.18919,0,0,0.22618,134.39,68.774)\"\n",
       "             d=\"m 378.64119,198.63071 c 0,2.02923 -3.0303,3.67425 -6.76836,3.67425 -3.73806,0 -6.76835,-1.64502 -6.76835,-3.67425 0,-2.02924 3.03029,-3.67425 6.76835,-3.67425 3.73806,0 6.76836,1.64501 6.76836,3.67425 z\"\n",
       "             sodipodi:type=\"arc\"\n",
       "             style=\"fill:#000000;stroke:#fff786;stroke-width:1.77170002;stroke-linecap:round\"\n",
       "             sodipodi:ry=\"3.6742506\"\n",
       "             sodipodi:rx=\"6.7683563\"\n",
       "             id=\"path3760\" />\n",
       "          <path\n",
       "             d=\"m 69.398,115.33 c -0.353,2.4 -3.198,4.06 -6.392,4.06 -3.194,0 -5.786,-1.89 -5.786,-4.21 0,-2.33 2.598,-4.39 5.786,-4.67 3.396,-0.31 5.535,2.72 6.392,4.82 z\"\n",
       "             style=\"fill:url(#linearGradient3951)\"\n",
       "             sodipodi:nodetypes=\"csssc\"\n",
       "             id=\"path3762\"\n",
       "             inkscape:connector-curvature=\"0\" />\n",
       "          <path\n",
       "             d=\"m 22.633,104.31 c -1.168,0 -2.224,0.18 -3.164,0.51 2.42,0.53 4.456,1.88 6.253,3.53 4.876,0.89 8.519,4.4 8.519,8.6 0,1.15 -0.277,2.23 -0.772,3.24 1.732,-1.42 2.829,-3.25 2.829,-5.37 -3.379,-4.57 -7.339,-10.51 -13.665,-10.51 z\"\n",
       "             style=\"fill:url(#linearGradient3953)\"\n",
       "             id=\"path3764\"\n",
       "             inkscape:connector-curvature=\"0\" />\n",
       "        </g>\n",
       "      </g>\n",
       "    </g>\n",
       "    <g\n",
       "       id=\"g3568\"\n",
       "       transform=\"translate(23.466685,290.51756)\"\n",
       "       style=\"filter:url(#filter4153)\">\n",
       "      <path\n",
       "         d=\"m 324.59817,107.46844 h 2.60577 c 0,7.50522 -1.24084,13.04185 -3.84662,16.48687 -2.3576,3.44501 -5.45971,5.16752 -9.30633,5.16752 -2.97803,0 -5.95606,-1.10732 -8.68591,-3.32198 -2.85395,-2.33769 -5.33564,-8.4895 -7.56916,-18.33241 l -6.3283,-28.052281 -21.5907,48.722381 h -13.77338 l 31.1452,-66.439611 c -1.73718,-8.612542 -3.72253,-15.010431 -5.95605,-19.07063 -2.3576,-4.183234 -5.21155,-6.274852 -8.68591,-6.274852 -2.72986,0 -5.21155,1.107327 -7.32099,3.198944 -1.98535,2.091618 -3.10211,5.290562 -3.35028,9.71987 h -2.60577 c 0.12409,-7.136107 1.48901,-12.795778 4.21887,-16.979012 2.72986,-4.306272 6.08014,-6.397889 10.17493,-6.397889 2.60577,0 5.08746,1.107327 7.44507,3.198944 2.3576,2.091618 4.46704,5.782707 6.08013,10.950233 1.73719,5.167525 4.46704,15.871685 8.06549,32.112479 l 5.21155,22.884756 c 2.10944,9.473798 4.21887,15.748648 6.57648,18.947598 2.23352,3.19894 5.08746,4.79841 8.18957,4.79841 5.45972,0 8.56183,-3.81412 9.30634,-11.31934\"\n",
       "         id=\"flowRoot1306\"\n",
       "         inkscape:connector-curvature=\"0\" />\n",
       "      <text\n",
       "         xml:space=\"preserve\"\n",
       "         style=\"font-size:106.18778229px;font-style:normal;font-weight:normal;line-height:125%;letter-spacing:0px;word-spacing:0px;fill:#0000ff;fill-opacity:1;stroke:none;font-family:Sans\"\n",
       "         x=\"238.47983\"\n",
       "         y=\"105.62708\"\n",
       "         id=\"text3540\"\n",
       "         sodipodi:linespacing=\"125%\"\n",
       "         transform=\"scale(0.93330595,1.07146)\"><tspan\n",
       "           sodipodi:role=\"line\"\n",
       "           id=\"tspan3542\"\n",
       "           x=\"238.47983\"\n",
       "           y=\"105.62708\">(</tspan></text>\n",
       "      <text\n",
       "         xml:space=\"preserve\"\n",
       "         style=\"font-size:106.18778229px;font-style:normal;font-weight:normal;line-height:125%;letter-spacing:0px;word-spacing:0px;fill:#0000ff;fill-opacity:1;stroke:none;font-family:Sans\"\n",
       "         x=\"-386.5108\"\n",
       "         y=\"-39.052319\"\n",
       "         id=\"text3540-8\"\n",
       "         sodipodi:linespacing=\"125%\"\n",
       "         transform=\"scale(-0.93330595,-1.07146)\"><tspan\n",
       "           sodipodi:role=\"line\"\n",
       "           id=\"tspan3542-7\"\n",
       "           x=\"-386.5108\"\n",
       "           y=\"-39.052319\">(</tspan></text>\n",
       "    </g>\n",
       "    <text\n",
       "       xml:space=\"preserve\"\n",
       "       style=\"font-size:40px;font-style:normal;font-variant:normal;font-weight:normal;font-stretch:normal;text-align:start;line-height:125%;letter-spacing:0px;word-spacing:0px;writing-mode:lr-tb;text-anchor:start;fill:#000080;fill-opacity:1;stroke:none;filter:url(#filter4047);font-family:Courier 10 Pitch;-inkscape-font-specification:Courier 10 Pitch\"\n",
       "       x=\"289.95273\"\n",
       "       y=\"275.30042\"\n",
       "       id=\"text3575\"\n",
       "       sodipodi:linespacing=\"125%\"\n",
       "       transform=\"matrix(1.16929,0,0,1.3994604,-76.29348,-103.22211)\"><tspan\n",
       "         sodipodi:role=\"line\"\n",
       "         id=\"tspan3577\"\n",
       "         x=\"289.95273\"\n",
       "         y=\"275.30042\">Common Lisp</tspan></text>\n",
       "  </g>\n",
       "  <metadata\n",
       "     id=\"metadata24\">\n",
       "    <rdf:RDF>\n",
       "      <cc:Work>\n",
       "        <dc:format>image/svg+xml</dc:format>\n",
       "        <dc:type\n",
       "           rdf:resource=\"http://purl.org/dc/dcmitype/StillImage\" />\n",
       "        <cc:license\n",
       "           rdf:resource=\"http://creativecommons.org/licenses/publicdomain/\" />\n",
       "        <dc:publisher>\n",
       "          <cc:Agent\n",
       "             rdf:about=\"http://openclipart.org/\">\n",
       "            <dc:title>Openclipart</dc:title>\n",
       "          </cc:Agent>\n",
       "        </dc:publisher>\n",
       "        <dc:title>Fishbowl</dc:title>\n",
       "        <dc:date>2010-05-11T04:48:20</dc:date>\n",
       "        <dc:description>A simple fishbowl, with water only. Drawn in Inkscape.</dc:description>\n",
       "        <dc:source>https://openclipart.org/detail/59905/fishbowl-by-j_alves</dc:source>\n",
       "        <dc:creator>\n",
       "          <cc:Agent>\n",
       "            <dc:title>J_Alves</dc:title>\n",
       "          </cc:Agent>\n",
       "        </dc:creator>\n",
       "        <dc:subject>\n",
       "          <rdf:Bag>\n",
       "            <rdf:li>aquarium</rdf:li>\n",
       "            <rdf:li>fish</rdf:li>\n",
       "            <rdf:li>fish tank</rdf:li>\n",
       "            <rdf:li>fishbowl</rdf:li>\n",
       "            <rdf:li>pet</rdf:li>\n",
       "          </rdf:Bag>\n",
       "        </dc:subject>\n",
       "      </cc:Work>\n",
       "      <cc:License\n",
       "         rdf:about=\"http://creativecommons.org/licenses/publicdomain/\">\n",
       "        <cc:permits\n",
       "           rdf:resource=\"http://creativecommons.org/ns#Reproduction\" />\n",
       "        <cc:permits\n",
       "           rdf:resource=\"http://creativecommons.org/ns#Distribution\" />\n",
       "        <cc:permits\n",
       "           rdf:resource=\"http://creativecommons.org/ns#DerivativeWorks\" />\n",
       "      </cc:License>\n",
       "    </rdf:RDF>\n",
       "  </metadata>\n",
       "</svg>\n"
      ],
      "text/plain": [
       "#<SVG-STR {1005BC3323}>"
      ]
     },
     "execution_count": 26,
     "metadata": {},
     "output_type": "execute_result"
    }
   ],
   "source": [
    "(svg-from-file \"profile/fishbowl-small.svg\")"
   ]
  },
  {
   "cell_type": "markdown",
   "metadata": {},
   "source": [
    "### Bitmap images as PNG"
   ]
  },
  {
   "cell_type": "code",
   "execution_count": null,
   "metadata": {
    "collapsed": false
   },
   "outputs": [],
   "source": []
  },
  {
   "cell_type": "markdown",
   "metadata": {},
   "source": [
    "## To be continued ..."
   ]
  },
  {
   "cell_type": "code",
   "execution_count": null,
   "metadata": {
    "collapsed": false
   },
   "outputs": [],
   "source": []
  }
 ],
 "metadata": {
  "kernelspec": {
   "display_name": "Python 3",
   "language": "python",
   "name": "python3"
  },
  "language_info": {
   "name": "common-lisp",
   "version": "1.2.7"
  }
 },
 "nbformat": 4,
 "nbformat_minor": 0
}
