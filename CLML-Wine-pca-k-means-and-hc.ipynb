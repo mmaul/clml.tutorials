{
 "cells": [
  {
   "cell_type": "markdown",
   "metadata": {},
   "source": [
    "# CLML, Wine, PCA, K-Means and Hierarchical Clustering"
   ]
  },
  {
   "cell_type": "markdown",
   "metadata": {},
   "source": [
    "> (C) 2015 Mike Maul -- CC-BY-SA 3.0"
   ]
  },
  {
   "cell_type": "markdown",
   "metadata": {},
   "source": [
    "This document is part series of tutorials illustrating the use of CLML."
   ]
  },
  {
   "cell_type": "markdown",
   "metadata": {},
   "source": [
    "###Caveat\n",
    "Anyone wishing to run this notebook or the code contained there in must take note of the following:\n",
    "  - This tutorial relies on the github version of [`CLML` https://github.com/mmaul/clml.git](https://github.com/mmaul/clml.git) or a quicklist-dist `CLML`> than 20150805 \n",
    "  - The plotting portion of this code requires the system [`clml.extras` https://github.com/mmaul/clml.extras.git](https://github.com/mmaul/clml.extras.git) which is not currently in quicklisp.\n",
    "  - While the above git repositories are not in quicklisp they be loaded by `quickload` by placing the repositories in $HOME/quicklisp/local-projects"
   ]
  },
  {
   "cell_type": "markdown",
   "metadata": {},
   "source": [
    "## Introduction\n",
    "This article will discuss two clustering techniques, k-means and Hierarchical Clustering.\n",
    "Clustering is an unsupervised learning technique, with the goa to group to samples into a given number of partitions.\n",
    "Clustering uses uses the similarity between examples and groups examples based of their mutual similarities.\n",
    "\n",
    "## Wine\n",
    "\n",
    "Wine such a multideminensional beverage. A feast for the senses, taste, smell even for the eyes. It also pairs well with statistical analysis techniques and even Lisp. What does wine and statistical analysis have to do with one another you may ask. Well the Wine dataset at it the 'goto' dataset used in just about every introduction cluster analysis. The Wine dataset is a chemical analysis of three types of wines wines grown in a region of Italy. The dataset contains an analysis of 178 samples, with 13 results of chemical assays for each sample. It is small enough yet contains enough complexity to be interesting. The real value is that the dataset already contains the classification, so the lazy (er I mean pragmitic) presenters don't have to justify the classification, they only have to compare the results agains the esisting classifications. While were on the subject of wine if you find yourself in eastern Washington, I highly recommend stopping by the [Parisisos del Sol](www.paradisosdelsol.com) winery, good wine, down to earth atmosphere and a really interesting and knowledgeable propriter. \n",
    "\n",
    "But back to the cluster analysis stuff...\n",
    "\n",
    "Lets get started by loading the system necessary for this tutorial and creating a namespace to work in."
   ]
  },
  {
   "cell_type": "code",
   "execution_count": 1,
   "metadata": {
    "collapsed": false,
    "scrolled": true
   },
   "outputs": [
    {
     "name": "stdout",
     "output_type": "stream",
     "text": [
      "To load \"clml.utility\":\n",
      "  Load 1 ASDF system:\n",
      "    clml.utility\n",
      "\n",
      "; Loading \"clml.utility\"\n",
      "....\n",
      "To load \"clml.hjs\":\n",
      "  Load 1 ASDF system:\n",
      "    clml.hjs\n",
      "\n",
      "; Loading \"clml.hjs\"\n",
      "\n",
      "To load \"clml.pca\":\n",
      "  Load 1 ASDF system:\n",
      "    clml.pca\n",
      "\n",
      "; Loading \"clml.pca\"\n",
      "\n",
      "To load \"clml.clustering\":\n",
      "  Load 1 ASDF system:\n",
      "    clml.clustering\n",
      "\n",
      "; Loading \"clml.clustering\"\n",
      "\n",
      "To load \"iolib\":\n",
      "  Load 1 ASDF system:\n",
      "    iolib\n",
      "\n",
      "; Loading \"iolib\"\n",
      ".....\n",
      "To load \"clml.extras.eazy-gnuplot\":\n",
      "  Load 1 ASDF system:\n",
      "    clml.extras.eazy-gnuplot\n",
      "\n",
      "; Loading \"clml.extras.eazy-gnuplot\"\n",
      "\n",
      "To load \"eazy-gnuplot\":\n",
      "  Load 1 ASDF system:\n",
      "    eazy-gnuplot\n",
      "\n",
      "; Loading \"eazy-gnuplot\"\n",
      "\n"
     ]
    },
    {
     "data": {
      "text/plain": [
       "#<PACKAGE \"WINE\">"
      ]
     },
     "execution_count": 1,
     "metadata": {},
     "output_type": "execute_result"
    }
   ],
   "source": [
    "(progn\n",
    "    (ql:quickload '(:clml.utility ; Need clml.utility.data to get data from the net\n",
    "                :clml.hjs ; Need clml.hjs.read-data to poke around the raw dataset\n",
    "                :clml.pca\n",
    "                :clml.clustering\n",
    "                :iolib\n",
    "                :clml.extras.eazy-gnuplot\n",
    "                :eazy-gnuplot\n",
    "                ))\n",
    "    (defpackage #:wine\n",
    "      (:use #:cl\n",
    "        #:cl-jupyter-user\n",
    "        #:clml.hjs.read-data\n",
    "        #:clml.utility.data\n",
    "        #:clml.hjs.vector\n",
    "        #:clml.hjs.matrix\n",
    "        #:clml.hjs.k-means\n",
    "        #:clml.pca\n",
    "        #:clml.clustering.hc\n",
    "        #:eazy-gnuplot\n",
    "        ))\n",
    ")"
   ]
  },
  {
   "cell_type": "code",
   "execution_count": 2,
   "metadata": {
    "collapsed": false
   },
   "outputs": [
    {
     "data": {
      "text/plain": [
       "#<PACKAGE \"WINE\">"
      ]
     },
     "execution_count": 2,
     "metadata": {},
     "output_type": "execute_result"
    }
   ],
   "source": [
    "(in-package :wine)"
   ]
  },
  {
   "cell_type": "markdown",
   "metadata": {},
   "source": [
    "##Take time to get to know your wine\n",
    "\n",
    "This tutorial illistrates how to use clustering, as well as how to use Principal Componen Analysis in support of k-means and also hierarchical clustering in CLML. Just like swilling a bottle of wine is not a good thing neither is turning losse analysis techniques willy nilly on data. It is necessary to understand your data first, as the saying goes, garbage in garbage out...\n",
    "\n",
    "Another take away from this tutorial is working with diverse data. Our dataset comes UCI Machine learning archive, the convention there is a headerless CSV file with seperate file ending in `.names` containing the a description of the dataset and the column names.\n",
    "\n",
    "So armed with some information about the origin and meaning of the data, the orignization and the location we can begin.\n",
    "The dataset is located at http://archive.ics.uci.edu/ml/machine-learning-databases/wine/wine\n",
    "\n",
    "Well almost ready another thing that is necessary is to asses the data so we can ingest it properly. This is something that generally needs to be done manually or can be skipped with prior knowldege of the dataset. \n",
    "\n",
    "The `wine.names` file is rather verbose so We will just list the column names:\n",
    "   1. Alcohol\n",
    "   2. Malic acid\n",
    "   3. Ash\n",
    "   4. Alcalinity of ash  \n",
    "   5. Magnesium\n",
    "   6. Total phenols\n",
    "   7. Flavanoids\n",
    "   8. Nonflavanoid phenols\n",
    "   9. Proanthocyanins\n",
    "   10. Color intensity\n",
    "   11. Hue\n",
    "   12. OD280/OD315 of diluted wines\n",
    "   13. Proline            \n",
    "\n",
    "So lets take a peek at the data."
   ]
  },
  {
   "cell_type": "code",
   "execution_count": 3,
   "metadata": {
    "collapsed": false
   },
   "outputs": [
    {
     "data": {
      "text/plain": [
       "UCI-WINE"
      ]
     },
     "execution_count": 3,
     "metadata": {},
     "output_type": "execute_result"
    }
   ],
   "source": [
    "(defparameter uci-wine \n",
    "    (read-data-from-file\n",
    "        (fetch \"http://archive.ics.uci.edu/ml/machine-learning-databases/wine/wine.data\")\n",
    "        :type :csv))"
   ]
  },
  {
   "cell_type": "code",
   "execution_count": 4,
   "metadata": {
    "collapsed": false
   },
   "outputs": [
    {
     "data": {
      "text/plain": [
       "\"#(#(1 13.2 1.78 2.14 11.2 100 2.65 2.76 .26 1.28 4.38 1.05 3.4 1050)\n",
       "  #(1 13.16 2.36 2.67 18.6 101 2.8 3.24 .3 2.81 5.68 1.03 3.17 1185)\n",
       "  #(1 14.37 1.95 2.5 16.8 113 3.85 3.49 .24 2.18 7.8 .86 3.45 1480)\n",
       "  #(1 13.24 2.59 2.87 21 118 2.8 2.69 .39 1.82 4.32 1.04 2.93 735)\n",
       "  #(1 14.2 1.76 2.45 15.2 112 3.27 3.39 .34 1.97 6.75 1.05 2.85 1450))\""
      ]
     },
     "execution_count": 4,
     "metadata": {},
     "output_type": "execute_result"
    }
   ],
   "source": [
    "(format nil \"~A\" (head-points uci-wine))"
   ]
  },
  {
   "cell_type": "markdown",
   "metadata": {
    "collapsed": false
   },
   "source": [
    "So is is all numeric data, The first colum from the dataset definition is the class so we don't want to give that to our\n",
    "clustering algorithim as that would be cheating. The numeric collumns should be of type double float\n",
    "\n",
    "The k-means, and hierichal clustering implementationsrequires a numeric-dataset which we create by using `pick-and-specialize data`"
   ]
  },
  {
   "cell_type": "code",
   "execution_count": 5,
   "metadata": {
    "collapsed": false
   },
   "outputs": [
    {
     "data": {
      "text/plain": [
       "WINE-WITH-CLASSIFICATIONS"
      ]
     },
     "execution_count": 5,
     "metadata": {},
     "output_type": "execute_result"
    }
   ],
   "source": [
    "(let ((wine-unspecialized (read-data-from-file\n",
    "    (fetch \"http://archive.ics.uci.edu/ml/machine-learning-databases/wine/wine.data\")\n",
    "    :type :csv\n",
    "    :csv-type-spec '(integer\n",
    "                     double-float double-float  double-float\n",
    "                     double-float double-float  double-float\n",
    "                     double-float double-float  double-float\n",
    "                     double-float double-float  double-float\n",
    "                     double-float)\n",
    "    :csv-header-p ( list \"Class\"\n",
    "                         \"Alcohol\"            \"Malic acid\"           \"Ash\"\n",
    "                         \"Alcalinity of ash\"  \"Magnesium\"            \"Total phenols\"\n",
    "                         \"Flavanoids\"         \"Nonflavanoid phenols\" \"Proanthocyanins\"\n",
    "                         \"Color intensity\"    \"Hue\"                   \"OD280/OD315 of diluted wines\"\n",
    "                         \"Proline\")\n",
    "    )))\n",
    "  (defparameter wine\n",
    "    (pick-and-specialize-data \n",
    "       wine-unspecialized   \n",
    "       :range '(1 2 3 4 5 6 7 8 9 10 11 12 13) :data-types (make-list 13 :initial-element :numeric )))\n",
    "  (defparameter wine-with-classifications\n",
    "    (pick-and-specialize-data \n",
    "       wine-unspecialized   \n",
    "       :data-types (make-list 14 :initial-element :numeric )))\n",
    "\n",
    ")"
   ]
  },
  {
   "cell_type": "markdown",
   "metadata": {
    "collapsed": false
   },
   "source": [
    "## Letting the wine breathe\n",
    "The process of letting wine breathe is to exposure to the surrounding air. Letting allowing wine to mix and mingle with air and surrounding tempature. Similarly our data needs to \"mix and mingle\" so that the scales become more uniform which is helpful to clustering algorithims.\n",
    "\n",
    "So we need to consider if the data needs to be standardized, generally the answer will be yes, unless the \n",
    "columns are all of the same units and have lov variance. Specifically with this datasets since the columns are using different units scaling is necessary. Our our implementation of `k-means` can do our standardization for us however we will need to do it for the principal component analysis.  The `standardize` function used here will be the z-score  which is $(c - \\mu) / \\sigma$.\n",
    "\n",
    "## Savoring the wine\n",
    "Savoring ths the process of detecting the essential properties generally using taste, we whiil however use principal component analysis instead. \n",
    "\n",
    "So what columns should be evaluated? We could evaluate all of them that might be okay, and would work in this case. However in the case of large datasets it may be necessary to reduce the dimensionality to decrease execution time. It could also be the case that some relatively unimportant columns could be throwing off the results.\n",
    "\n",
    "#### Principal Component Analysis\n",
    "Well one technique we can use to select the relevant columns for analysis is principal component analysis. Principal Component Analysis is a set of orthagonal transformations that reduce dimensionality in a dataset. One of the things that PCA can tell us is the mangnitute of the contribution of each column to the variation in the data. \n",
    "\n",
    "PCA is one of those algrorithims that needs regular data so we are going to standardize the dataset first. \n",
    "\n",
    "Lets compute a few things we will be needing.\n",
    "  - `standardized-wine`: The stadardized copy of wine dataset\n",
    "  - `pca-result`: The result of the PCA analysis of the standardized wine dataset"
   ]
  },
  {
   "cell_type": "code",
   "execution_count": 6,
   "metadata": {
    "collapsed": false
   },
   "outputs": [
    {
     "data": {
      "text/plain": [
       "PCA-RESULT"
      ]
     },
     "execution_count": 6,
     "metadata": {},
     "output_type": "execute_result"
    }
   ],
   "source": [
    "(progn \n",
    "  (defparameter standardized-wine (copy-dataset wine))\n",
    "  (setf (dataset-numeric-points standardized-wine) (standardize (dataset-numeric-points standardized-wine)))\n",
    "  \n",
    "  (defparameter pca-result (princomp standardized-wine))\n",
    ")"
   ]
  },
  {
   "cell_type": "markdown",
   "metadata": {},
   "source": [
    "One of the methods of evaluating the choice of principal components is the 'elbow' method. The elbow method involves choosing the number of components that lie in the elbow of the graph. In the graph below three or four would be a reasonable choice. \n",
    "\n",
    "Specifically `contributions` returns the variances of the components."
   ]
  },
  {
   "cell_type": "code",
   "execution_count": 7,
   "metadata": {
    "collapsed": false
   },
   "outputs": [
    {
     "data": {
      "image/png": "[encoded data removed]",
      "text/plain": [
       "#<CL-JUPYTER-USER::PNG-BYTES {10088EC0F3}>"
      ]
     },
     "execution_count": 7,
     "metadata": {},
     "output_type": "execute_result"
    }
   ],
   "source": [
    "(let ((png \"wine-pca-contributions.png\"))\n",
    "    (clml.extras.eazy-gnuplot::plot-series (contributions pca-result) \n",
    "    :term '(:png) :output png :plot-title \"PCA Contributions\" :ylabel \"Variance\" :xlabel \"Column\" :series-title \"\")\n",
    "    (display-png (png-from-file png)))"
   ]
  },
  {
   "cell_type": "markdown",
   "metadata": {},
   "source": [
    "One of the primary uses of PCA is to reduce dimensionality of data. In this case it allows us to make the decision that first four columns are what drive the majority of the variation in the data. So knowing this we will be truncating the data set to four columns. While this is not that critical in the current dataset which has only thirteen dimensions, it can be critical when dealing with datasets with hundreds or thousands of columns. \n",
    "\n",
    "So lets partition off the dataset so it only contains the principal columns, as we will need that later."
   ]
  },
  {
   "cell_type": "code",
   "execution_count": 8,
   "metadata": {
    "collapsed": false
   },
   "outputs": [
    {
     "data": {
      "text/plain": [
       "TRUNCATED-STANDARDIZED-WINE"
      ]
     },
     "execution_count": 8,
     "metadata": {},
     "output_type": "execute_result"
    }
   ],
   "source": [
    "(defparameter truncated-standardized-wine (make-numeric-dataset  \n",
    "                       (map 'list #'dimension-name (subseq (dataset-dimensions wine) 0 4))                           \n",
    "                       (map 'vector (lambda (r) (subseq r 0 4)) (dataset-points standardized-wine))))"
   ]
  },
  {
   "cell_type": "markdown",
   "metadata": {},
   "source": [
    "## On to the wine tasting, a blind tasting\n",
    "So for wine to be judged impartially it should be served without context and evaluated solely on its own merits. This is really what we are doing we already stripped the classifications from the dataset, and we aren't even tasting the wines ourselves. Out goal is to try match the wine varietal type with the preexisting classifications.\n",
    "\n",
    "#### Deciding on the clusters\n",
    "We need to have some idea of how the data will be grouped. In some cases this will be known, in others it will not. In this case we know theere are three different classifications.\n",
    "\n",
    "But what if we didn't know? \n",
    "\n",
    "One method is to look at the within group of sums of squares among the contributions of the principal components of the dataset. We calculate the first value storing it in `wss1` the remaining values can be calulated by taking the sum of squares of the distances returned from running k-means (as the `distance-between-point-and-owner` slot in the `pca-result` instance returned from k-means)on the selected principal components from the previous PCA analysis.  "
   ]
  },
  {
   "cell_type": "code",
   "execution_count": 12,
   "metadata": {
    "collapsed": false
   },
   "outputs": [
    {
     "data": {
      "image/png": "[encoded data removed]",
      "text/plain": [
       "#<CL-JUPYTER-USER::PNG-BYTES {100A0733F3}>"
      ]
     },
     "execution_count": 12,
     "metadata": {},
     "output_type": "execute_result"
    }
   ],
   "source": [
    "(let ((wss1 (* (- (length (components pca-result)) 1) \n",
    "               (loop for v across (subseq (contributions pca-result) 0 4) sum v)))\n",
    "       (comp-ds (make-numeric-dataset '(\"pc1\" \"pc2\" \"pc3\" \"pc4\")\n",
    "                                      (map 'vector (lambda (r) (subseq r 0 4)) (components pca-result))))\n",
    "        (png \"group-sum-of-squares.png\"))\n",
    "    (clml.extras.eazy-gnuplot::plot-series \n",
    "      (coerce (cons wss1 \n",
    "                  (loop for n from 2 upto 8 ; could be up size of dimensions the far end is generally irrelevant\n",
    "                        for k-means-n = (k-means n comp-ds  :standardization nil \n",
    "                                                 :random-state (make-random-state-with-seed 100))\n",
    "                        collect (loop for x across (clml.hjs.k-means::pw-distance-between-point-and-owner k-means-n) \n",
    "                                      sum (* x x)))) \n",
    "               'vector)\n",
    "       :term '(:png) :output png :plot-title \"Group Sum of Squares\" :ylabel \"In group sum of squares\" \n",
    "       :xlabel \"Clusters\" :series-title \"\")\n",
    "  \n",
    "  (display-png (png-from-file png)))"
   ]
  },
  {
   "cell_type": "markdown",
   "metadata": {},
   "source": [
    "Again we use the \"elbow\" method to make our selection (additionally in either selecting number of cluseter or the pricinpal components we can use the 85% precentile to make the choice point).\n",
    "\n",
    "But what is really cool is the elbow lies right on three cluster which matches the number of clusters that had been manually classified in the wine dataset. \n",
    "\n",
    "#### K-means\n",
    "So we kind of jumped into using `k-means` before talking about it...\n",
    "Simplified description of the K-means Algorithm:\n",
    "\n",
    "1. Initial cluster are randomly chosen.\n",
    "2. The squared distance from each object to each cluster is computed, then the objects are assigned to the nearest cluster.\n",
    "3. New centroid are computed for each cluster – and each cluster is  by the respective cluster centroid.\n",
    "4. The squared distance from each object to each cluster is computed, and the objects are assigned to the cluster nearest cluster with the smallest squared distance.\n",
    "5. Based upon the new membership assignement cluster centroids are recalculated.\n",
    "6. Steps 4 and 5 are repeated until stability is achived.\n",
    "\n",
    "The k in k-means is the number of clusters that k-means will be classifing. K is required parameter in k-means but how should we decide what to set it to?  Well we already know from the original dataset that there are three clusters.\n",
    "\n",
    "So for testing or teaching you will want to set a fixed `:random-state` which will allow you have repeatable results (It influnces the choice of the seed clusters). \n",
    "But keep in mind if you set it all the time you might get caught on a local optima that you might have avoided if \n",
    "you had allowed the state to be random.\n",
    "\n",
    "The CLML implementation of k-means accepts a number of parameters for running k-means.\n",
    "\n",
    "* k-means arguments *\n",
    "    - k:              <integer>, number of clusters\n",
    "    - dataset:        <numeric-dataset> | <category-dataset> | <numeric-or-category-dataset>\n",
    "    - distance-fn:    #'euclid-distance | #'manhattan-distance | #'cosine-distance\n",
    "    - standardization:t | nil, whether to standardize the inputs\n",
    "    - max-iteration:  maximum number of iterations of one trial (default 1000)\n",
    "    - num-of-trials:  number of trials, every trial changes the initial position of the clusters. (Default 10)\n",
    "    - random-state:   (for testing), specify the random-state of the random number generator\n",
    "    - debug:          (for debugging) print out some debugging information\n",
    "\n",
    "* k-means results *\n",
    "    - workspacet: points, clusters, distance infomation, etc.\n",
    "    - table:      lookup table for normalized vecs and original vecs, might be removed later.\n",
    "    \n",
    "Okay, so now that we know the number of clusters (well we've always known, but we also arrived at the same choice on our own), lets run k-means on our dataset."
   ]
  },
  {
   "cell_type": "code",
   "execution_count": 10,
   "metadata": {
    "collapsed": false
   },
   "outputs": [
    {
     "data": {
      "text/plain": [
       "#<CLML.HJS.K-MEANS::PROBLEM-WORKSPACE 3 Clusters (ID size): ((0 54) (1 62)\n",
       "                                                             (2 62)) {1007736283}>"
      ]
     },
     "execution_count": 10,
     "metadata": {},
     "output_type": "execute_result"
    }
   ],
   "source": [
    " (progn  (defparameter workspace nil) \n",
    "         (defparameter table nil)\n",
    "         (multiple-value-setq (workspace table)\n",
    "           (k-means 3 truncated-standardized-wine  :standardization nil \n",
    "                    :random-state (make-random-state-with-seed 1234))))"
   ]
  },
  {
   "cell_type": "markdown",
   "metadata": {},
   "source": [
    "And we see out cluster assigment in the pretty print of the object. Lets compare roughly with the counts of the classification that came with the dataset. \n"
   ]
  },
  {
   "cell_type": "code",
   "execution_count": 11,
   "metadata": {
    "collapsed": false
   },
   "outputs": [
    {
     "data": {
      "text/plain": [
       "((1 59) (2 71) (3 48))"
      ]
     },
     "execution_count": 11,
     "metadata": {},
     "output_type": "execute_result"
    }
   ],
   "source": [
    "(loop for c across (!! wine-with-classifications \"Class\") \n",
    "  when (= c 1.0) count c into one when (= c 2.0) count c into two when (= c 3.0) count c into three \n",
    "  finally (return (list (list 1  one) (list 2 two) (list 3 three))))"
   ]
  },
  {
   "cell_type": "markdown",
   "metadata": {},
   "source": [
    "So that doesn's look all that bad We can verify this in a bit.\n",
    "\n",
    "One thing that hasn't been addressed is how to associate the classifications with the un-standardized data. Earlier we created a parameter `table` table contains a hash table that associates the standardized rows with their unstandardized rows."
   ]
  },
  {
   "cell_type": "markdown",
   "metadata": {},
   "source": [
    "#### Hierarchical Clustering\n",
    "\n",
    "###### How it works\n",
    "\n",
    "The clml imlementation of Hierarchical Clustering uses agglomerative clustering (bottom up approach)\n",
    "A nice concise description of the processs of agglomerative clustering from [improvedoutcomes.com/](http://www.improvedoutcomes.com/docs/WebSiteDocs/Clustering/Agglomerative_Hierarchical_Clustering_Overview.htm) is as follows:\n",
    "  - Assign each object to a separate cluster.\n",
    "  - Evaluate all pair-wise distances between clusters (distance metrics are described in Distance Metrics Overview).\n",
    "  - Construct a distance matrix using the distance values.\n",
    "  - Look for the pair of clusters with the shortest distance.\n",
    "  - Remove the pair from the matrix and merge them.\n",
    "  - Evaluate all distances from this new cluster to all other clusters, and update the matrix.\n",
    "  - Repeat until the distance matrix is reduced to a single element.\n",
    "\n",
    "The `distance-matrix`takes an optional argument `:distance-fn` which specifices the distance function used in the distance computations. The distance functions avalable are:\n",
    "  - ecludian (Default)\n",
    "  - manhattan\n",
    "  - pearson\n",
    "  - cosine\n",
    "  - tanimoto\n",
    "  - caberra\n",
    "\n",
    "The `cophonetic-matric` function evaluates the distance matric and returns the merge and cophonetic matrix. The `cophonetic-matrix` take a optional `:method` parameter to specify the method used to evaulate the distance matrix. The evaluation methods are as follows.\n",
    "  - `hc-single`\n",
    "  - `hc-complete`\n",
    "  - `hc-average` (default)\n",
    "  - `hc-centroid`\n",
    "  - `hc-median`\n",
    "  - `hc-ward`\n",
    "\n",
    "`cuttree` cuts the tree defined in the merge matrix into the specified number of pieces.\n"
   ]
  },
  {
   "cell_type": "code",
   "execution_count": 16,
   "metadata": {
    "collapsed": false
   },
   "outputs": [
    {
     "name": "stdout",
     "output_type": "stream",
     "text": [
      "Cut tree: #(1 1 1 1 1 1 1 1 1 1 1 1 1 1 1 1 1 1 1 1 1 1 1 1 1 1 1 1 1 1 1 1 1 1\n",
      "            1 1 1 1 1 1 1 1 1 1 1 1 1 1 1 1 3 1 1 1 1 1 1 1 1 3 2 2 3 3 3 1 3 3\n",
      "            2 1 3 1 3 1 3 3 3 3 1 3 3 3 3 2 3 3 3 3 3 3 3 3 3 3 3 1 2 3 3 3 3 3\n",
      "            3 3 3 3 3 3 3 3 3 3 3 3 3 3 3 3 2 3 3 1 3 3 3 3 3 3 3 3 2 2 2 2 2 2\n",
      "            2 2 2 2 2 2 2 2 2 2 2 2 2 2 2 2 2 2 2 2 2 2 2 2 2 2 2 2 2 2 2 2 2 2\n",
      "            2 2 2 2 2 2 2 2) \n",
      "Class counts:((1 65) (2 54) (3 59)) \n"
     ]
    },
    {
     "data": {
      "text/plain": [
       "NIL"
      ]
     },
     "execution_count": 16,
     "metadata": {},
     "output_type": "execute_result"
    }
   ],
   "source": [
    "(progn\n",
    "  (defparameter distance-matrix (distance-matrix (numeric-matrix standardized-wine)))\n",
    "  (defparameter u nil) (defparameter v nil)\n",
    "  (multiple-value-setq (u v) (cophenetic-matrix distance-matrix #'hc-ward))\n",
    "  (defparameter ctree (cutree 3 v))\n",
    "  (format t \"Cut tree: ~A ~%Class counts:~A ~%\" ctree\n",
    "           (loop for x across ctree \n",
    "                 when (= x 1) counting x into one \n",
    "                 when (= x 2) counting x into two \n",
    "                 when (= x 3) counting x into three \n",
    "                 finally (return (list (list 1 one) (list 2 two) (list 3 three)))))\n",
    ")"
   ]
  },
  {
   "cell_type": "markdown",
   "metadata": {
    "collapsed": false
   },
   "source": [
    " \n",
    "\n",
    "   (multiple-value-bind (workspace table)\n",
    "           (k-means 3 wine  :standardization t :random-state state)\n",
    "      ;;;; Now lets see how we did.\n",
    "      (print workspace  )\n",
    "      ;;;; #<CLML.HJS.K-MEANS::PROBLEM-WORKSPACE 3 Clusters (ID size):\n",
    "      ;;;;   ((0 51) (1 61) (2 66)) {10097B0003}>\n",
    "      ;;;; So the cluster distribution is ((0 51) (1 61) (2 66))\n",
    "      ;;;; from the dataset description in the .names file the\n",
    "      ;;;; actual distribution is: class 1 59\n",
    "\t  ;;;;                         class 2 71\n",
    "\t  ;;;;                         class 3 48\n",
    "      ;;;; Not too bad\n",
    "      ;;;; So what data is available from our clustering\n",
    "      ;;;; The cluster centroids:\n",
    "      (get-cluster-centroids workspace)\n",
    "      ;;;; ((0\n",
    "      ;;;;  . #(0.16444358896995892 0.8690954472537682 0.18637259499845618\n",
    "      ;;;;      0.5228924410811502 -0.07526046614302336 -0.9765754839938489\n",
    "      ;;;;      -1.2118292123465357 0.724021159373092 -0.7775131171790667\n",
    "      ;;;;      0.9388902409225227 -1.1615121632678649 -1.2887761433394702\n",
    "      ;;;;      -0.40594284143656034))\n",
    "      ;;;;      \n",
    "      ;;;;  (1\n",
    "      ;;;;  . #(0.8756272418170851 -0.30371957168664576 0.3180446264140999\n",
    "      ;;;;     -0.6626543948232362 0.5632992471916901 0.8740398997645874\n",
    "      ;;;;      0.9409846247986108 -0.5839425807469174 0.5801464167356171\n",
    "      ;;;;      0.1667181285145495 0.48236743459432646 0.7648958114081033\n",
    "      ;;;;      1.1550887659006268))\n",
    "      ;;;;  (2\n",
    "      ;;;;  . #(-0.9363618907319501 -0.3908632414705565 -0.4379655235785164\n",
    "      ;;;;      0.20840005437998074 -0.4624692470514986 -0.0531982454841447\n",
    "      ;;;;      0.06671557146906414 -0.019766389431300546 0.06460965992817365\n",
    "      ;;;;      -0.8795940625217612 0.45170767903647707 0.28892331536998617\n",
    "      ;;;;      -0.753898936464753))\n",
    "      ;;;;\n",
    "      ;;;;  Cluster points\n",
    "      (print (subseq (get-cluster-points workspace 0) 0 2))\n",
    "      ;;;; #(#(1.3911617440421347 1.5787117630892988 1.361367967705916 1.4987155594909907\n",
    "      ;;;;     -0.26196935775916486 -0.3916464788342626 -1.2707199546448487\n",
    "      ;;;;     1.5921313718328312 -0.4208878242554346 1.78662613110848 -1.5200903793122311\n",
    "      ;;;;     -1.4249282134945676 -0.5934862576893309)\n",
    "      ;;;;   #(0.2086431208420219 0.22705327972312908 0.012696271660310293\n",
    "      ;;;;     0.151234177571265 1.4184106667861087 -1.030776189881695 -1.350811364170554\n",
    "      ;;;;     1.351077174906624 -0.22870070674327575 1.8297614498435204\n",
    "      ;;;;     -1.5638403530401324 -1.396758819669375 0.2956638034293828))\n",
    "      ;;;;\n",
    "\n",
    "      )\n",
    "   )\n",
    "   (gethash (elt (get-cluster-points workspace 0) 0) table)\n"
   ]
  },
  {
   "cell_type": "markdown",
   "metadata": {},
   "source": [
    "##Conclusion\n",
    "\n",
    "The iPython notebook and source for this tutorial can be found in the [clml.tutorials https://github.com/mmaul/clml.tutorials.git](https://github.com/mmaul/clml.tutorials.git) github repository.\n",
    "\n",
    "###Stay tuned to [clml.tutorials](https://mmaul.github.io/clml.tutorials/) blog or [RSS feed](https://mmaul.github.io/clml.tutorials/feed.xml) for more CLML tutorials..\n"
   ]
  }
 ],
 "metadata": {
  "kernelspec": {
   "display_name": "SBCL Lisp",
   "language": "lisp",
   "name": "lisp"
  },
  "language_info": {
   "name": "common-lisp",
   "version": "1.2.7"
  }
 },
 "nbformat": 4,
 "nbformat_minor": 0
}
